{
  "nbformat": 4,
  "nbformat_minor": 0,
  "metadata": {
    "colab": {
      "name": "BDA_StockPrediction.ipynb",
      "provenance": [],
      "collapsed_sections": [],
      "authorship_tag": "ABX9TyMrTrafzvAIKKc4HSedD1X3",
      "include_colab_link": true
    },
    "kernelspec": {
      "name": "python3",
      "display_name": "Python 3"
    },
    "language_info": {
      "name": "python"
    }
  },
  "cells": [
    {
      "cell_type": "markdown",
      "metadata": {
        "id": "view-in-github",
        "colab_type": "text"
      },
      "source": [
        "<a href=\"https://colab.research.google.com/github/Kashishkasalwal/Big-Data-Analysis_Stock-Prediction-using-LSTM/blob/main/BDA_StockPrediction.ipynb\" target=\"_parent\"><img src=\"https://colab.research.google.com/assets/colab-badge.svg\" alt=\"Open In Colab\"/></a>"
      ]
    },
    {
      "cell_type": "code",
      "metadata": {
        "id": "h65_2RoilpXr"
      },
      "source": [
        "### Keras and Tensorflow >2.0\n",
        "### Data Collection\n",
        "import pandas_datareader as pdr\n",
        "key=\"\""
      ],
      "execution_count": 103,
      "outputs": []
    },
    {
      "cell_type": "code",
      "metadata": {
        "id": "4ZDNsvwuoVOK"
      },
      "source": [
        "df = pdr.get_data_tiingo('AAPL', api_key=\"5dce68a8b5101c848814f1cd6598a205efce6654\")"
      ],
      "execution_count": 104,
      "outputs": []
    },
    {
      "cell_type": "code",
      "metadata": {
        "id": "FBqhqbVRslcw"
      },
      "source": [
        "df.to_csv('AAPL.csv')"
      ],
      "execution_count": 105,
      "outputs": []
    },
    {
      "cell_type": "code",
      "metadata": {
        "id": "ynFB_JyAsoyG"
      },
      "source": [
        "import pandas as pd"
      ],
      "execution_count": 106,
      "outputs": []
    },
    {
      "cell_type": "code",
      "metadata": {
        "id": "qJ9PakIfst1i"
      },
      "source": [
        "df=pd.read_csv('AAPL.csv')"
      ],
      "execution_count": 107,
      "outputs": []
    },
    {
      "cell_type": "code",
      "metadata": {
        "colab": {
          "base_uri": "https://localhost:8080/",
          "height": 202
        },
        "id": "bWR655pdsyPO",
        "outputId": "1afd981c-e52f-4958-ab8b-0ba422532532"
      },
      "source": [
        "df.tail()"
      ],
      "execution_count": 108,
      "outputs": [
        {
          "output_type": "execute_result",
          "data": {
            "text/html": [
              "<div>\n",
              "<style scoped>\n",
              "    .dataframe tbody tr th:only-of-type {\n",
              "        vertical-align: middle;\n",
              "    }\n",
              "\n",
              "    .dataframe tbody tr th {\n",
              "        vertical-align: top;\n",
              "    }\n",
              "\n",
              "    .dataframe thead th {\n",
              "        text-align: right;\n",
              "    }\n",
              "</style>\n",
              "<table border=\"1\" class=\"dataframe\">\n",
              "  <thead>\n",
              "    <tr style=\"text-align: right;\">\n",
              "      <th></th>\n",
              "      <th>symbol</th>\n",
              "      <th>date</th>\n",
              "      <th>close</th>\n",
              "      <th>high</th>\n",
              "      <th>low</th>\n",
              "      <th>open</th>\n",
              "      <th>volume</th>\n",
              "      <th>adjClose</th>\n",
              "      <th>adjHigh</th>\n",
              "      <th>adjLow</th>\n",
              "      <th>adjOpen</th>\n",
              "      <th>adjVolume</th>\n",
              "      <th>divCash</th>\n",
              "      <th>splitFactor</th>\n",
              "    </tr>\n",
              "  </thead>\n",
              "  <tbody>\n",
              "    <tr>\n",
              "      <th>1252</th>\n",
              "      <td>AAPL</td>\n",
              "      <td>2021-04-13 00:00:00+00:00</td>\n",
              "      <td>134.43</td>\n",
              "      <td>134.66</td>\n",
              "      <td>131.930</td>\n",
              "      <td>132.44</td>\n",
              "      <td>91266545</td>\n",
              "      <td>134.43</td>\n",
              "      <td>134.66</td>\n",
              "      <td>131.930</td>\n",
              "      <td>132.44</td>\n",
              "      <td>91266545</td>\n",
              "      <td>0.0</td>\n",
              "      <td>1.0</td>\n",
              "    </tr>\n",
              "    <tr>\n",
              "      <th>1253</th>\n",
              "      <td>AAPL</td>\n",
              "      <td>2021-04-14 00:00:00+00:00</td>\n",
              "      <td>132.03</td>\n",
              "      <td>135.00</td>\n",
              "      <td>131.655</td>\n",
              "      <td>134.94</td>\n",
              "      <td>87222782</td>\n",
              "      <td>132.03</td>\n",
              "      <td>135.00</td>\n",
              "      <td>131.655</td>\n",
              "      <td>134.94</td>\n",
              "      <td>87222782</td>\n",
              "      <td>0.0</td>\n",
              "      <td>1.0</td>\n",
              "    </tr>\n",
              "    <tr>\n",
              "      <th>1254</th>\n",
              "      <td>AAPL</td>\n",
              "      <td>2021-04-15 00:00:00+00:00</td>\n",
              "      <td>134.50</td>\n",
              "      <td>135.00</td>\n",
              "      <td>133.640</td>\n",
              "      <td>133.82</td>\n",
              "      <td>89347102</td>\n",
              "      <td>134.50</td>\n",
              "      <td>135.00</td>\n",
              "      <td>133.640</td>\n",
              "      <td>133.82</td>\n",
              "      <td>89347102</td>\n",
              "      <td>0.0</td>\n",
              "      <td>1.0</td>\n",
              "    </tr>\n",
              "    <tr>\n",
              "      <th>1255</th>\n",
              "      <td>AAPL</td>\n",
              "      <td>2021-04-16 00:00:00+00:00</td>\n",
              "      <td>134.16</td>\n",
              "      <td>134.67</td>\n",
              "      <td>133.280</td>\n",
              "      <td>134.30</td>\n",
              "      <td>84922386</td>\n",
              "      <td>134.16</td>\n",
              "      <td>134.67</td>\n",
              "      <td>133.280</td>\n",
              "      <td>134.30</td>\n",
              "      <td>84922386</td>\n",
              "      <td>0.0</td>\n",
              "      <td>1.0</td>\n",
              "    </tr>\n",
              "    <tr>\n",
              "      <th>1256</th>\n",
              "      <td>AAPL</td>\n",
              "      <td>2021-04-19 00:00:00+00:00</td>\n",
              "      <td>134.84</td>\n",
              "      <td>135.47</td>\n",
              "      <td>133.340</td>\n",
              "      <td>133.51</td>\n",
              "      <td>94264215</td>\n",
              "      <td>134.84</td>\n",
              "      <td>135.47</td>\n",
              "      <td>133.340</td>\n",
              "      <td>133.51</td>\n",
              "      <td>94264215</td>\n",
              "      <td>0.0</td>\n",
              "      <td>1.0</td>\n",
              "    </tr>\n",
              "  </tbody>\n",
              "</table>\n",
              "</div>"
            ],
            "text/plain": [
              "     symbol                       date   close  ...  adjVolume  divCash  splitFactor\n",
              "1252   AAPL  2021-04-13 00:00:00+00:00  134.43  ...   91266545      0.0          1.0\n",
              "1253   AAPL  2021-04-14 00:00:00+00:00  132.03  ...   87222782      0.0          1.0\n",
              "1254   AAPL  2021-04-15 00:00:00+00:00  134.50  ...   89347102      0.0          1.0\n",
              "1255   AAPL  2021-04-16 00:00:00+00:00  134.16  ...   84922386      0.0          1.0\n",
              "1256   AAPL  2021-04-19 00:00:00+00:00  134.84  ...   94264215      0.0          1.0\n",
              "\n",
              "[5 rows x 14 columns]"
            ]
          },
          "metadata": {
            "tags": []
          },
          "execution_count": 108
        }
      ]
    },
    {
      "cell_type": "code",
      "metadata": {
        "id": "4GtiwW-vs6Gi"
      },
      "source": [
        "df1=df.reset_index()['close']"
      ],
      "execution_count": 109,
      "outputs": []
    },
    {
      "cell_type": "code",
      "metadata": {
        "colab": {
          "base_uri": "https://localhost:8080/"
        },
        "id": "UpXt2B1bGUoU",
        "outputId": "a681ebef-d41e-45f4-b9dd-0681c105877e"
      },
      "source": [
        "df1.shape"
      ],
      "execution_count": 110,
      "outputs": [
        {
          "output_type": "execute_result",
          "data": {
            "text/plain": [
              "(1257,)"
            ]
          },
          "metadata": {
            "tags": []
          },
          "execution_count": 110
        }
      ]
    },
    {
      "cell_type": "code",
      "metadata": {
        "colab": {
          "base_uri": "https://localhost:8080/"
        },
        "id": "L_l0QfEXs7wq",
        "outputId": "f072306e-470c-4af8-a432-f61891b838d4"
      },
      "source": [
        "df1"
      ],
      "execution_count": 111,
      "outputs": [
        {
          "output_type": "execute_result",
          "data": {
            "text/plain": [
              "0       105.97\n",
              "1       105.68\n",
              "2       105.08\n",
              "3       104.35\n",
              "4        97.82\n",
              "         ...  \n",
              "1252    134.43\n",
              "1253    132.03\n",
              "1254    134.50\n",
              "1255    134.16\n",
              "1256    134.84\n",
              "Name: close, Length: 1257, dtype: float64"
            ]
          },
          "metadata": {
            "tags": []
          },
          "execution_count": 111
        }
      ]
    },
    {
      "cell_type": "code",
      "metadata": {
        "colab": {
          "base_uri": "https://localhost:8080/",
          "height": 283
        },
        "id": "IMZZtVDAtARW",
        "outputId": "f8652f9e-f9f6-4700-ae3e-f58f45460df7"
      },
      "source": [
        "import matplotlib.pyplot as plt\n",
        "plt.plot(df1)"
      ],
      "execution_count": 112,
      "outputs": [
        {
          "output_type": "execute_result",
          "data": {
            "text/plain": [
              "[<matplotlib.lines.Line2D at 0x7f776186cdd0>]"
            ]
          },
          "metadata": {
            "tags": []
          },
          "execution_count": 112
        },
        {
          "output_type": "display_data",
          "data": {
            "image/png": "[encoded data removed]",
            "text/plain": [
              "<Figure size 432x288 with 1 Axes>"
            ]
          },
          "metadata": {
            "tags": [],
            "needs_background": "light"
          }
        }
      ]
    },
    {
      "cell_type": "code",
      "metadata": {
        "id": "Hf5wjKeWtKsE"
      },
      "source": [
        "### LSTM are sensitive to the scale of the data. so we apply MinMax scaler\n",
        "import numpy as np"
      ],
      "execution_count": 113,
      "outputs": []
    },
    {
      "cell_type": "code",
      "metadata": {
        "colab": {
          "base_uri": "https://localhost:8080/"
        },
        "id": "I5jd6hhjtPdV",
        "outputId": "002b0c20-9acb-4802-bc2c-222f86de0779"
      },
      "source": [
        "df1"
      ],
      "execution_count": 114,
      "outputs": [
        {
          "output_type": "execute_result",
          "data": {
            "text/plain": [
              "0       105.97\n",
              "1       105.68\n",
              "2       105.08\n",
              "3       104.35\n",
              "4        97.82\n",
              "         ...  \n",
              "1252    134.43\n",
              "1253    132.03\n",
              "1254    134.50\n",
              "1255    134.16\n",
              "1256    134.84\n",
              "Name: close, Length: 1257, dtype: float64"
            ]
          },
          "metadata": {
            "tags": []
          },
          "execution_count": 114
        }
      ]
    },
    {
      "cell_type": "code",
      "metadata": {
        "id": "JVZa3hh9tTzd"
      },
      "source": [
        "from sklearn.preprocessing import MinMaxScaler\n",
        "scaler=MinMaxScaler(feature_range=(0,1))\n",
        "df1=scaler.fit_transform(np.array(df1).reshape(-1,1))"
      ],
      "execution_count": 115,
      "outputs": []
    },
    {
      "cell_type": "code",
      "metadata": {
        "colab": {
          "base_uri": "https://localhost:8080/"
        },
        "id": "gUnKF0HiGwj-",
        "outputId": "b8428875-f5ab-418a-eaed-e1534ddaf5c9"
      },
      "source": [
        "df1"
      ],
      "execution_count": 116,
      "outputs": [
        {
          "output_type": "execute_result",
          "data": {
            "text/plain": [
              "array([[0.03759471],\n",
              "       [0.03689717],\n",
              "       [0.035454  ],\n",
              "       ...,\n",
              "       [0.10621768],\n",
              "       [0.10539988],\n",
              "       [0.10703548]])"
            ]
          },
          "metadata": {
            "tags": []
          },
          "execution_count": 116
        }
      ]
    },
    {
      "cell_type": "code",
      "metadata": {
        "colab": {
          "base_uri": "https://localhost:8080/"
        },
        "id": "upLeSF5MtYju",
        "outputId": "e42206e6-4a95-42b3-befc-04065de2858b"
      },
      "source": [
        "print(df1)"
      ],
      "execution_count": 117,
      "outputs": [
        {
          "output_type": "stream",
          "text": [
            "[[0.03759471]\n",
            " [0.03689717]\n",
            " [0.035454  ]\n",
            " ...\n",
            " [0.10621768]\n",
            " [0.10539988]\n",
            " [0.10703548]]\n"
          ],
          "name": "stdout"
        }
      ]
    },
    {
      "cell_type": "code",
      "metadata": {
        "id": "a6YkALPEtgsE"
      },
      "source": [
        "##splitting dataset into train and test split\n",
        "training_size=int(len(df1)*0.65)\n",
        "test_size=len(df1)-training_size\n",
        "train_data,test_data=df1[0:training_size,:],df1[training_size:len(df1),:1]"
      ],
      "execution_count": 118,
      "outputs": []
    },
    {
      "cell_type": "code",
      "metadata": {
        "colab": {
          "base_uri": "https://localhost:8080/"
        },
        "id": "ZpgvHvvvti6d",
        "outputId": "70174d3a-e070-4a37-ddde-a58e4b391b18"
      },
      "source": [
        "training_size,test_size"
      ],
      "execution_count": 119,
      "outputs": [
        {
          "output_type": "execute_result",
          "data": {
            "text/plain": [
              "(817, 440)"
            ]
          },
          "metadata": {
            "tags": []
          },
          "execution_count": 119
        }
      ]
    },
    {
      "cell_type": "code",
      "metadata": {
        "colab": {
          "base_uri": "https://localhost:8080/"
        },
        "id": "eLnozGMqtoBf",
        "outputId": "afaad3e6-920d-4cfc-98b7-4bcc20a223be"
      },
      "source": [
        "train_data"
      ],
      "execution_count": 120,
      "outputs": [
        {
          "output_type": "execute_result",
          "data": {
            "text/plain": [
              "array([[0.03759471],\n",
              "       [0.03689717],\n",
              "       [0.035454  ],\n",
              "       [0.03369814],\n",
              "       [0.01799158],\n",
              "       [0.01079976],\n",
              "       [0.00817799],\n",
              "       [0.00793746],\n",
              "       [0.01164161],\n",
              "       [0.00926037],\n",
              "       [0.00697535],\n",
              "       [0.00572459],\n",
              "       [0.00589296],\n",
              "       [0.0074083 ],\n",
              "       [0.00521948],\n",
              "       [0.        ],\n",
              "       [0.00043295],\n",
              "       [0.00851473],\n",
              "       [0.00757667],\n",
              "       [0.01015033],\n",
              "       [0.00928443],\n",
              "       [0.01173782],\n",
              "       [0.01464823],\n",
              "       [0.018184  ],\n",
              "       [0.02232111],\n",
              "       [0.02422129],\n",
              "       [0.02407697],\n",
              "       [0.02289838],\n",
              "       [0.01953097],\n",
              "       [0.01775105],\n",
              "       [0.01823211],\n",
              "       [0.01993987],\n",
              "       [0.02090198],\n",
              "       [0.02068551],\n",
              "       [0.02239327],\n",
              "       [0.02042093],\n",
              "       [0.01683704],\n",
              "       [0.01712568],\n",
              "       [0.01635598],\n",
              "       [0.01734215],\n",
              "       [0.01200241],\n",
              "       [0.01144919],\n",
              "       [0.01339747],\n",
              "       [0.01253157],\n",
              "       [0.01385448],\n",
              "       [0.00736019],\n",
              "       [0.004089  ],\n",
              "       [0.0078172 ],\n",
              "       [0.00976548],\n",
              "       [0.01265183],\n",
              "       [0.01334937],\n",
              "       [0.01118461],\n",
              "       [0.01248346],\n",
              "       [0.01346963],\n",
              "       [0.01524955],\n",
              "       [0.01597114],\n",
              "       [0.01702946],\n",
              "       [0.01570655],\n",
              "       [0.02032471],\n",
              "       [0.02030066],\n",
              "       [0.02282622],\n",
              "       [0.02292243],\n",
              "       [0.02313891],\n",
              "       [0.0218641 ],\n",
              "       [0.02001203],\n",
              "       [0.01683704],\n",
              "       [0.0152255 ],\n",
              "       [0.03033073],\n",
              "       [0.03367408],\n",
              "       [0.0333614 ],\n",
              "       [0.03778713],\n",
              "       [0.03401082],\n",
              "       [0.03716176],\n",
              "       [0.03735418],\n",
              "       [0.0412267 ],\n",
              "       [0.04336741],\n",
              "       [0.04442574],\n",
              "       [0.04247745],\n",
              "       [0.04230908],\n",
              "       [0.0429104 ],\n",
              "       [0.04603728],\n",
              "       [0.04579675],\n",
              "       [0.04541191],\n",
              "       [0.04507517],\n",
              "       [0.04574865],\n",
              "       [0.04370415],\n",
              "       [0.04452195],\n",
              "       [0.04254961],\n",
              "       [0.04144317],\n",
              "       [0.03992784],\n",
              "       [0.03963921],\n",
              "       [0.03766687],\n",
              "       [0.0379074 ],\n",
              "       [0.03942273],\n",
              "       [0.04182802],\n",
              "       [0.04175586],\n",
              "       [0.04334336],\n",
              "       [0.03651233],\n",
              "       [0.03076368],\n",
              "       [0.0363199 ],\n",
              "       [0.04235719],\n",
              "       [0.0515454 ],\n",
              "       [0.06068551],\n",
              "       [0.05912207],\n",
              "       [0.05589898],\n",
              "       [0.05587492],\n",
              "       [0.05582682],\n",
              "       [0.05840048],\n",
              "       [0.05380637],\n",
              "       [0.05421527],\n",
              "       [0.05472038],\n",
              "       [0.05678894],\n",
              "       [0.05253157],\n",
              "       [0.05462417],\n",
              "       [0.05334937],\n",
              "       [0.05450391],\n",
              "       [0.05462417],\n",
              "       [0.05664462],\n",
              "       [0.05705352],\n",
              "       [0.06184005],\n",
              "       [0.06244137],\n",
              "       [0.06494287],\n",
              "       [0.06407697],\n",
              "       [0.06564041],\n",
              "       [0.06544799],\n",
              "       [0.06525556],\n",
              "       [0.06441371],\n",
              "       [0.06426939],\n",
              "       [0.06316296],\n",
              "       [0.06568851],\n",
              "       [0.06713169],\n",
              "       [0.06073361],\n",
              "       [0.05806374],\n",
              "       [0.05623572],\n",
              "       [0.05580277],\n",
              "       [0.05087192],\n",
              "       [0.05111245],\n",
              "       [0.04687913],\n",
              "       [0.0444979 ],\n",
              "       [0.0482742 ],\n",
              "       [0.04983764],\n",
              "       [0.04940469],\n",
              "       [0.04197234],\n",
              "       [0.04351173],\n",
              "       [0.03696933],\n",
              "       [0.04033674],\n",
              "       [0.04726398],\n",
              "       [0.04716777],\n",
              "       [0.04743235],\n",
              "       [0.05144919],\n",
              "       [0.05161756],\n",
              "       [0.05024654],\n",
              "       [0.05159351],\n",
              "       [0.05106434],\n",
              "       [0.05079976],\n",
              "       [0.04853879],\n",
              "       [0.04606133],\n",
              "       [0.0470475 ],\n",
              "       [0.04514732],\n",
              "       [0.04716777],\n",
              "       [0.04976548],\n",
              "       [0.05238725],\n",
              "       [0.05678894],\n",
              "       [0.0552255 ],\n",
              "       [0.0597715 ],\n",
              "       [0.0597715 ],\n",
              "       [0.06128683],\n",
              "       [0.06164762],\n",
              "       [0.06325917],\n",
              "       [0.06400481],\n",
              "       [0.06426939],\n",
              "       [0.06241732],\n",
              "       [0.06297054],\n",
              "       [0.06475045],\n",
              "       [0.06354781],\n",
              "       [0.06347565],\n",
              "       [0.06128683],\n",
              "       [0.06208058],\n",
              "       [0.06176789],\n",
              "       [0.06318701],\n",
              "       [0.06631389],\n",
              "       [0.06891161],\n",
              "       [0.06920024],\n",
              "       [0.07073963],\n",
              "       [0.06953698],\n",
              "       [0.06903187],\n",
              "       [0.07134095],\n",
              "       [0.0713169 ],\n",
              "       [0.07081179],\n",
              "       [0.07134095],\n",
              "       [0.07153337],\n",
              "       [0.07126879],\n",
              "       [0.0758629 ],\n",
              "       [0.07600722],\n",
              "       [0.07603127],\n",
              "       [0.07526158],\n",
              "       [0.07458809],\n",
              "       [0.09238725],\n",
              "       [0.09185809],\n",
              "       [0.093181  ],\n",
              "       [0.0960914 ],\n",
              "       [0.09907396],\n",
              "       [0.10030066],\n",
              "       [0.10121467],\n",
              "       [0.10049308],\n",
              "       [0.10330728],\n",
              "       [0.10746843],\n",
              "       [0.10864702],\n",
              "       [0.10825015],\n",
              "       [0.10915213],\n",
              "       [0.11150932],\n",
              "       [0.11249549],\n",
              "       [0.11110042],\n",
              "       [0.11141311],\n",
              "       [0.11206254],\n",
              "       [0.11220686],\n",
              "       [0.11894167],\n",
              "       [0.11694528],\n",
              "       [0.11891762],\n",
              "       [0.11785929],\n",
              "       [0.11829224],\n",
              "       [0.11704149],\n",
              "       [0.1162718 ],\n",
              "       [0.11737823],\n",
              "       [0.11752255],\n",
              "       [0.11701744],\n",
              "       [0.12055322],\n",
              "       [0.12110643],\n",
              "       [0.11942273],\n",
              "       [0.12295851],\n",
              "       [0.11906194],\n",
              "       [0.1228623 ],\n",
              "       [0.12165965],\n",
              "       [0.12098617],\n",
              "       [0.12156344],\n",
              "       [0.12858689],\n",
              "       [0.12935658],\n",
              "       [0.12889958],\n",
              "       [0.12825015],\n",
              "       [0.12834636],\n",
              "       [0.13092002],\n",
              "       [0.12911606],\n",
              "       [0.12825015],\n",
              "       [0.12748046],\n",
              "       [0.12707156],\n",
              "       [0.12336741],\n",
              "       [0.12377631],\n",
              "       [0.12197234],\n",
              "       [0.12384847],\n",
              "       [0.12233313],\n",
              "       [0.12108238],\n",
              "       [0.12531569],\n",
              "       [0.12490679],\n",
              "       [0.12820204],\n",
              "       [0.13034275],\n",
              "       [0.12829826],\n",
              "       [0.12856284],\n",
              "       [0.1282261 ],\n",
              "       [0.1352736 ],\n",
              "       [0.13751052],\n",
              "       [0.13642814],\n",
              "       [0.13515334],\n",
              "       [0.1409982 ],\n",
              "       [0.15073963],\n",
              "       [0.15309681],\n",
              "       [0.15134095],\n",
              "       [0.1530006 ],\n",
              "       [0.15817198],\n",
              "       [0.15720986],\n",
              "       [0.15665664],\n",
              "       [0.14410102],\n",
              "       [0.14960914],\n",
              "       [0.15085989],\n",
              "       [0.15309681],\n",
              "       [0.15263981],\n",
              "       [0.15153337],\n",
              "       [0.15280818],\n",
              "       [0.1521828 ],\n",
              "       [0.15232712],\n",
              "       [0.1501383 ],\n",
              "       [0.15114853],\n",
              "       [0.15660854],\n",
              "       [0.1529525 ],\n",
              "       [0.15420325],\n",
              "       [0.15641612],\n",
              "       [0.1555021 ],\n",
              "       [0.1410463 ],\n",
              "       [0.13248346],\n",
              "       [0.13529765],\n",
              "       [0.13185809],\n",
              "       [0.12976548],\n",
              "       [0.12490679],\n",
              "       [0.13469633],\n",
              "       [0.13149729],\n",
              "       [0.13356584],\n",
              "       [0.13298857],\n",
              "       [0.13455201],\n",
              "       [0.13344558],\n",
              "       [0.12841852],\n",
              "       [0.13346963],\n",
              "       [0.12829826],\n",
              "       [0.12911606],\n",
              "       [0.1278653 ],\n",
              "       [0.12928443],\n",
              "       [0.12601323],\n",
              "       [0.1295009 ],\n",
              "       [0.13161756],\n",
              "       [0.13274805],\n",
              "       [0.13325316],\n",
              "       [0.1381359 ],\n",
              "       [0.14119062],\n",
              "       [0.14244137],\n",
              "       [0.14369212],\n",
              "       [0.1459531 ],\n",
              "       [0.1443175 ],\n",
              "       [0.14414913],\n",
              "       [0.14852676],\n",
              "       [0.1500902 ],\n",
              "       [0.15182201],\n",
              "       [0.14484666],\n",
              "       [0.14229705],\n",
              "       [0.14044498],\n",
              "       [0.14361996],\n",
              "       [0.16067348],\n",
              "       [0.15689717],\n",
              "       [0.15886951],\n",
              "       [0.16469032],\n",
              "       [0.16774504],\n",
              "       [0.17010222],\n",
              "       [0.15629585],\n",
              "       [0.16149128],\n",
              "       [0.16719182],\n",
              "       [0.17140108],\n",
              "       [0.16983764],\n",
              "       [0.16240529],\n",
              "       [0.16153939],\n",
              "       [0.16084185],\n",
              "       [0.16702345],\n",
              "       [0.16750451],\n",
              "       [0.16579675],\n",
              "       [0.16721587],\n",
              "       [0.17108839],\n",
              "       [0.17455201],\n",
              "       [0.17561034],\n",
              "       [0.17717378],\n",
              "       [0.17729405],\n",
              "       [0.17255562],\n",
              "       [0.17214672],\n",
              "       [0.17058328],\n",
              "       [0.16425737],\n",
              "       [0.17116055],\n",
              "       [0.16962117],\n",
              "       [0.16671076],\n",
              "       [0.16341551],\n",
              "       [0.16726398],\n",
              "       [0.16435358],\n",
              "       [0.1644979 ],\n",
              "       [0.15809982],\n",
              "       [0.15165364],\n",
              "       [0.1480457 ],\n",
              "       [0.14482261],\n",
              "       [0.15105232],\n",
              "       [0.15367408],\n",
              "       [0.15138906],\n",
              "       [0.1534095 ],\n",
              "       [0.15266386],\n",
              "       [0.15427541],\n",
              "       [0.15187011],\n",
              "       [0.15646422],\n",
              "       [0.15624775],\n",
              "       [0.1575466 ],\n",
              "       [0.15769092],\n",
              "       [0.15925436],\n",
              "       [0.15793145],\n",
              "       [0.16031269],\n",
              "       [0.16726398],\n",
              "       [0.1686831 ],\n",
              "       [0.16697535],\n",
              "       [0.15788334],\n",
              "       [0.15853277],\n",
              "       [0.15834035],\n",
              "       [0.16057727],\n",
              "       [0.15891762],\n",
              "       [0.16132291],\n",
              "       [0.17488876],\n",
              "       [0.18371618],\n",
              "       [0.18929645],\n",
              "       [0.18412508],\n",
              "       [0.18705953],\n",
              "       [0.19761876],\n",
              "       [0.20182802],\n",
              "       [0.20317498],\n",
              "       [0.20661455],\n",
              "       [0.20574865],\n",
              "       [0.20283824],\n",
              "       [0.20115454],\n",
              "       [0.19482862],\n",
              "       [0.18939266],\n",
              "       [0.19425135],\n",
              "       [0.19196633],\n",
              "       [0.19155743],\n",
              "       [0.19915815],\n",
              "       [0.20353578],\n",
              "       [0.20355983],\n",
              "       [0.20144317],\n",
              "       [0.19898978],\n",
              "       [0.19035478],\n",
              "       [0.19605532],\n",
              "       [0.19413109],\n",
              "       [0.19112447],\n",
              "       [0.19073963],\n",
              "       [0.18922429],\n",
              "       [0.18996993],\n",
              "       [0.1900902 ],\n",
              "       [0.19802766],\n",
              "       [0.19569453],\n",
              "       [0.19706554],\n",
              "       [0.19694528],\n",
              "       [0.20115454],\n",
              "       [0.2070475 ],\n",
              "       [0.20252556],\n",
              "       [0.20206855],\n",
              "       [0.20365604],\n",
              "       [0.20365604],\n",
              "       [0.19297655],\n",
              "       [0.19304871],\n",
              "       [0.19420325],\n",
              "       [0.18975346],\n",
              "       [0.19704149],\n",
              "       [0.19696933],\n",
              "       [0.19889357],\n",
              "       [0.20363199],\n",
              "       [0.20206855],\n",
              "       [0.20202044],\n",
              "       [0.20192423],\n",
              "       [0.20430547],\n",
              "       [0.20865905],\n",
              "       [0.20649429],\n",
              "       [0.21349369],\n",
              "       [0.21387853],\n",
              "       [0.2119543 ],\n",
              "       [0.20844257],\n",
              "       [0.20853879],\n",
              "       [0.20175586],\n",
              "       [0.19427541],\n",
              "       [0.19523752],\n",
              "       [0.18669874],\n",
              "       [0.1843175 ],\n",
              "       [0.18542393],\n",
              "       [0.18626578],\n",
              "       [0.16875526],\n",
              "       [0.15911004],\n",
              "       [0.17484065],\n",
              "       [0.16644618],\n",
              "       [0.15588695],\n",
              "       [0.15891762],\n",
              "       [0.17407096],\n",
              "       [0.17799158],\n",
              "       [0.18527962],\n",
              "       [0.19879735],\n",
              "       [0.19745039],\n",
              "       [0.19605532],\n",
              "       [0.19417919],\n",
              "       [0.19761876],\n",
              "       [0.20483464],\n",
              "       [0.213181  ],\n",
              "       [0.21178593],\n",
              "       [0.2111365 ],\n",
              "       [0.20363199],\n",
              "       [0.20654239],\n",
              "       [0.20800962],\n",
              "       [0.20764883],\n",
              "       [0.20370415],\n",
              "       [0.20829826],\n",
              "       [0.21561034],\n",
              "       [0.21979555],\n",
              "       [0.21558629],\n",
              "       [0.21190619],\n",
              "       [0.2124113 ],\n",
              "       [0.21089597],\n",
              "       [0.20435358],\n",
              "       [0.20420926],\n",
              "       [0.19466025],\n",
              "       [0.18883945],\n",
              "       [0.17943476],\n",
              "       [0.19826819],\n",
              "       [0.18761275],\n",
              "       [0.18313891],\n",
              "       [0.18626578],\n",
              "       [0.18361996],\n",
              "       [0.18773301],\n",
              "       [0.19547805],\n",
              "       [0.19834035],\n",
              "       [0.18770896],\n",
              "       [0.1917258 ],\n",
              "       [0.19942273],\n",
              "       [0.19747444],\n",
              "       [0.20156344],\n",
              "       [0.20298256],\n",
              "       [0.20560433],\n",
              "       [0.21142514],\n",
              "       [0.21046302],\n",
              "       [0.19834035],\n",
              "       [0.18131088],\n",
              "       [0.18015634],\n",
              "       [0.17462417],\n",
              "       [0.17633193],\n",
              "       [0.17770295],\n",
              "       [0.17313289],\n",
              "       [0.18020445],\n",
              "       [0.18944077],\n",
              "       [0.2074083 ],\n",
              "       [0.20817799],\n",
              "       [0.22487072],\n",
              "       [0.22806975],\n",
              "       [0.23021046],\n",
              "       [0.2333614 ],\n",
              "       [0.23980758],\n",
              "       [0.2363199 ],\n",
              "       [0.23526158],\n",
              "       [0.23114853],\n",
              "       [0.23533373],\n",
              "       [0.23247144],\n",
              "       [0.23083584],\n",
              "       [0.23401082],\n",
              "       [0.23288034],\n",
              "       [0.23576669],\n",
              "       [0.23526158],\n",
              "       [0.23629585],\n",
              "       [0.23466025],\n",
              "       [0.23369814],\n",
              "       [0.2321828 ],\n",
              "       [0.24028863],\n",
              "       [0.24411305],\n",
              "       [0.24767288],\n",
              "       [0.24928443],\n",
              "       [0.24803367],\n",
              "       [0.24380036],\n",
              "       [0.24266987],\n",
              "       [0.24519543],\n",
              "       [0.24139507],\n",
              "       [0.2416356 ],\n",
              "       [0.23692123],\n",
              "       [0.2366807 ],\n",
              "       [0.22934456],\n",
              "       [0.23129284],\n",
              "       [0.22879134],\n",
              "       [0.22749248],\n",
              "       [0.22087793],\n",
              "       [0.22631389],\n",
              "       [0.22566446],\n",
              "       [0.22888755],\n",
              "       [0.22794949],\n",
              "       [0.23292844],\n",
              "       [0.22508719],\n",
              "       [0.22864702],\n",
              "       [0.23482862],\n",
              "       [0.24110643],\n",
              "       [0.24055322],\n",
              "       [0.23461215],\n",
              "       [0.24218882],\n",
              "       [0.2429104 ],\n",
              "       [0.24190018],\n",
              "       [0.24319904],\n",
              "       [0.24067348],\n",
              "       [0.24423331],\n",
              "       [0.24317498],\n",
              "       [0.24358388],\n",
              "       [0.24692724],\n",
              "       [0.25130487],\n",
              "       [0.24983764],\n",
              "       [0.24206855],\n",
              "       [0.23949489],\n",
              "       [0.2404089 ],\n",
              "       [0.26737222],\n",
              "       [0.28153939],\n",
              "       [0.28298256],\n",
              "       [0.28558028],\n",
              "       [0.2808659 ],\n",
              "       [0.28120265],\n",
              "       [0.28512327],\n",
              "       [0.28187613],\n",
              "       [0.28509922],\n",
              "       [0.28721587],\n",
              "       [0.28839447],\n",
              "       [0.29580277],\n",
              "       [0.30604931],\n",
              "       [0.30095009],\n",
              "       [0.29993987],\n",
              "       [0.29996392],\n",
              "       [0.30102225],\n",
              "       [0.30263379],\n",
              "       [0.30691521],\n",
              "       [0.31114853],\n",
              "       [0.31903788],\n",
              "       [0.32396873],\n",
              "       [0.33022249],\n",
              "       [0.33197835],\n",
              "       [0.32839447],\n",
              "       [0.31932652],\n",
              "       [0.31499699],\n",
              "       [0.30785328],\n",
              "       [0.32113049],\n",
              "       [0.31444378],\n",
              "       [0.32728803],\n",
              "       [0.32110643],\n",
              "       [0.3067709 ],\n",
              "       [0.3076368 ],\n",
              "       [0.30794949],\n",
              "       [0.31194227],\n",
              "       [0.30624173],\n",
              "       [0.31377029],\n",
              "       [0.3171377 ],\n",
              "       [0.31288034],\n",
              "       [0.32377631],\n",
              "       [0.32567649],\n",
              "       [0.32933253],\n",
              "       [0.33419122],\n",
              "       [0.34090198],\n",
              "       [0.33108839],\n",
              "       [0.32218882],\n",
              "       [0.32093806],\n",
              "       [0.32839447],\n",
              "       [0.30311485],\n",
              "       [0.29852075],\n",
              "       [0.31694528],\n",
              "       [0.30552014],\n",
              "       [0.31704149],\n",
              "       [0.31473241],\n",
              "       [0.30229705],\n",
              "       [0.31021046],\n",
              "       [0.31343355],\n",
              "       [0.31843656],\n",
              "       [0.30006013],\n",
              "       [0.31138906],\n",
              "       [0.30297054],\n",
              "       [0.29320505],\n",
              "       [0.29575466],\n",
              "       [0.30912808],\n",
              "       [0.31720986],\n",
              "       [0.28175586],\n",
              "       [0.2675887 ],\n",
              "       [0.27283223],\n",
              "       [0.28769693],\n",
              "       [0.28418521],\n",
              "       [0.27451594],\n",
              "       [0.24974143],\n",
              "       [0.24507517],\n",
              "       [0.23201443],\n",
              "       [0.24310283],\n",
              "       [0.24820204],\n",
              "       [0.22975346],\n",
              "       [0.20839447],\n",
              "       [0.20791341],\n",
              "       [0.19711365],\n",
              "       [0.20271798],\n",
              "       [0.20180397],\n",
              "       [0.21791942],\n",
              "       [0.21457607],\n",
              "       [0.21224293],\n",
              "       [0.22725195],\n",
              "       [0.20769693],\n",
              "       [0.20295851],\n",
              "       [0.18797354],\n",
              "       [0.19064342],\n",
              "       [0.18831028],\n",
              "       [0.18944077],\n",
              "       [0.19389056],\n",
              "       [0.18073361],\n",
              "       [0.17702946],\n",
              "       [0.18215274],\n",
              "       [0.16969333],\n",
              "       [0.15992784],\n",
              "       [0.14525556],\n",
              "       [0.13587492],\n",
              "       [0.16074564],\n",
              "       [0.15829224],\n",
              "       [0.15848467],\n",
              "       [0.16211666],\n",
              "       [0.16254961],\n",
              "       [0.12471437],\n",
              "       [0.13931449],\n",
              "       [0.13852075],\n",
              "       [0.14530367],\n",
              "       [0.15146121],\n",
              "       [0.15263981],\n",
              "       [0.14900782],\n",
              "       [0.1434997 ],\n",
              "       [0.15088394],\n",
              "       [0.15538184],\n",
              "       [0.15759471],\n",
              "       [0.15990379],\n",
              "       [0.15143716],\n",
              "       [0.15292844],\n",
              "       [0.14999399],\n",
              "       [0.16216476],\n",
              "       [0.15865304],\n",
              "       [0.15475646],\n",
              "       [0.1801804 ],\n",
              "       [0.18304269],\n",
              "       [0.18323512],\n",
              "       [0.19461215],\n",
              "       [0.20165965],\n",
              "       [0.20180397],\n",
              "       [0.19386651],\n",
              "       [0.1925917 ],\n",
              "       [0.19023452],\n",
              "       [0.19374624],\n",
              "       [0.19203848],\n",
              "       [0.19352977],\n",
              "       [0.19261575],\n",
              "       [0.19384245],\n",
              "       [0.19648827],\n",
              "       [0.19415514],\n",
              "       [0.19874925],\n",
              "       [0.20177992],\n",
              "       [0.20202044],\n",
              "       [0.2033193 ],\n",
              "       [0.1991822 ],\n",
              "       [0.20355983],\n",
              "       [0.20567649],\n",
              "       [0.20490679],\n",
              "       [0.20247745],\n",
              "       [0.19761876],\n",
              "       [0.19860493],\n",
              "       [0.21301263],\n",
              "       [0.21784726],\n",
              "       [0.2197715 ],\n",
              "       [0.22463019],\n",
              "       [0.23037883],\n",
              "       [0.23494889],\n",
              "       [0.231365  ],\n",
              "       [0.23528563],\n",
              "       [0.2519543 ],\n",
              "       [0.24223692],\n",
              "       [0.2366807 ],\n",
              "       [0.23199038],\n",
              "       [0.23603127],\n",
              "       [0.23663259],\n",
              "       [0.2395911 ],\n",
              "       [0.24269393],\n",
              "       [0.24938064],\n",
              "       [0.25257968],\n",
              "       [0.25339747],\n",
              "       [0.25654841],\n",
              "       [0.26400481],\n",
              "       [0.26256164],\n",
              "       [0.26525556],\n",
              "       [0.26123873],\n",
              "       [0.2610463 ],\n",
              "       [0.26191221],\n",
              "       [0.26196031],\n",
              "       [0.27129284],\n",
              "       [0.27304871],\n",
              "       [0.27466025],\n",
              "       [0.28175586],\n",
              "       [0.28098617],\n",
              "       [0.27646422],\n",
              "       [0.27410704],\n",
              "       [0.27485268],\n",
              "       [0.26537583],\n",
              "       [0.28906795],\n",
              "       [0.2857727 ],\n",
              "       [0.29202646],\n",
              "       [0.28416115],\n",
              "       [0.27064342],\n",
              "       [0.27073963],\n",
              "       [0.26549609],\n",
              "       [0.25698136],\n",
              "       [0.22941672],\n",
              "       [0.23648827],\n",
              "       [0.24192423],\n",
              "       [0.23990379],\n",
              "       [0.23730607],\n",
              "       [0.2230908 ],\n",
              "       [0.23153337],\n",
              "       [0.22234516],\n",
              "       [0.21484065],\n",
              "       [0.213181  ],\n",
              "       [0.21140108],\n",
              "       [0.20935658],\n",
              "       [0.21156945],\n",
              "       [0.20380036],\n",
              "       [0.19954299],\n",
              "       [0.21479254],\n",
              "       [0.22176789],\n",
              "       [0.22821407],\n",
              "       [0.24007216],\n",
              "       [0.24591702],\n",
              "       [0.25128082],\n",
              "       [0.24978954],\n",
              "       [0.24969333],\n",
              "       [0.24630186],\n",
              "       [0.24906795],\n",
              "       [0.26003608],\n",
              "       [0.25864101],\n",
              "       [0.26246542],\n",
              "       [0.26082983],\n",
              "       [0.26034877],\n",
              "       [0.25310884],\n",
              "       [0.26328322],\n",
              "       [0.26313891],\n",
              "       [0.25876127],\n",
              "       [0.26749248],\n",
              "       [0.27033073],\n",
              "       [0.27437162],\n",
              "       [0.27393867],\n",
              "       [0.26381239],\n",
              "       [0.26674684],\n",
              "       [0.27153337],\n",
              "       [0.26797354],\n",
              "       [0.27170174],\n",
              "       [0.27629585],\n",
              "       [0.27458809],\n",
              "       [0.27182201],\n",
              "       [0.27737823],\n",
              "       [0.26999399]])"
            ]
          },
          "metadata": {
            "tags": []
          },
          "execution_count": 120
        }
      ]
    },
    {
      "cell_type": "code",
      "metadata": {
        "id": "H-V8Cr5OtslI"
      },
      "source": [
        "import numpy\n",
        "# convert an array of values into a dataset matrix\n",
        "def create_dataset(dataset, time_step=1):\n",
        "\tdataX, dataY = [], []\n",
        "\tfor i in range(len(dataset)-time_step-1):\n",
        "\t\ta = dataset[i:(i+time_step), 0]   ###i=0, 0,1,2,3-----99   100 \n",
        "\t\tdataX.append(a)\n",
        "\t\tdataY.append(dataset[i + time_step, 0])\n",
        "\treturn numpy.array(dataX), numpy.array(dataY)"
      ],
      "execution_count": 121,
      "outputs": []
    },
    {
      "cell_type": "code",
      "metadata": {
        "id": "Ojmh1ppVt1S0"
      },
      "source": [
        "# reshape into X=t,t+1,t+2,t+3 and Y=t+4\n",
        "time_step = 100\n",
        "X_train, y_train = create_dataset(train_data, time_step)\n",
        "X_test, ytest = create_dataset(test_data, time_step)"
      ],
      "execution_count": 122,
      "outputs": []
    },
    {
      "cell_type": "code",
      "metadata": {
        "colab": {
          "base_uri": "https://localhost:8080/"
        },
        "id": "pTOiKjF4t_GA",
        "outputId": "607ec9c0-bed8-4887-a7ee-941017b9689c"
      },
      "source": [
        "print(X_train.shape), print(y_train.shape)"
      ],
      "execution_count": 123,
      "outputs": [
        {
          "output_type": "stream",
          "text": [
            "(716, 100)\n",
            "(716,)\n"
          ],
          "name": "stdout"
        },
        {
          "output_type": "execute_result",
          "data": {
            "text/plain": [
              "(None, None)"
            ]
          },
          "metadata": {
            "tags": []
          },
          "execution_count": 123
        }
      ]
    },
    {
      "cell_type": "code",
      "metadata": {
        "colab": {
          "base_uri": "https://localhost:8080/"
        },
        "id": "tI297CXvuDuN",
        "outputId": "6881d997-10ad-4752-a7b8-0ff375fe9ab5"
      },
      "source": [
        "print(X_test.shape), print(ytest.shape)"
      ],
      "execution_count": 124,
      "outputs": [
        {
          "output_type": "stream",
          "text": [
            "(339, 100)\n",
            "(339,)\n"
          ],
          "name": "stdout"
        },
        {
          "output_type": "execute_result",
          "data": {
            "text/plain": [
              "(None, None)"
            ]
          },
          "metadata": {
            "tags": []
          },
          "execution_count": 124
        }
      ]
    },
    {
      "cell_type": "code",
      "metadata": {
        "id": "_OgV-Du4uJyF"
      },
      "source": [
        "# reshape input to be [samples, time steps, features] which is required for LSTM\n",
        "X_train =X_train.reshape(X_train.shape[0],X_train.shape[1] , 1)\n",
        "X_test = X_test.reshape(X_test.shape[0],X_test.shape[1] , 1)"
      ],
      "execution_count": 125,
      "outputs": []
    },
    {
      "cell_type": "code",
      "metadata": {
        "id": "g31jclAtuRHZ"
      },
      "source": [
        "### Create the Stacked LSTM model\n",
        "from tensorflow.keras.models import Sequential\n",
        "from tensorflow.keras.layers import Dense\n",
        "from tensorflow.keras.layers import LSTM"
      ],
      "execution_count": 126,
      "outputs": []
    },
    {
      "cell_type": "code",
      "metadata": {
        "id": "3l_SMjoZuTu8"
      },
      "source": [
        "model=Sequential()\n",
        "model.add(LSTM(50,return_sequences=True,input_shape=(100,1)))\n",
        "model.add(LSTM(50,return_sequences=True))\n",
        "model.add(LSTM(50))\n",
        "model.add(Dense(1))\n",
        "model.compile(loss='mean_squared_error',optimizer='adam')"
      ],
      "execution_count": 127,
      "outputs": []
    },
    {
      "cell_type": "code",
      "metadata": {
        "colab": {
          "base_uri": "https://localhost:8080/"
        },
        "id": "qrB3FqzFuhP5",
        "outputId": "35de6daa-355b-48f1-90e7-52e369a70f59"
      },
      "source": [
        "model.summary()"
      ],
      "execution_count": 128,
      "outputs": [
        {
          "output_type": "stream",
          "text": [
            "Model: \"sequential_2\"\n",
            "_________________________________________________________________\n",
            "Layer (type)                 Output Shape              Param #   \n",
            "=================================================================\n",
            "lstm_6 (LSTM)                (None, 100, 50)           10400     \n",
            "_________________________________________________________________\n",
            "lstm_7 (LSTM)                (None, 100, 50)           20200     \n",
            "_________________________________________________________________\n",
            "lstm_8 (LSTM)                (None, 50)                20200     \n",
            "_________________________________________________________________\n",
            "dense_2 (Dense)              (None, 1)                 51        \n",
            "=================================================================\n",
            "Total params: 50,851\n",
            "Trainable params: 50,851\n",
            "Non-trainable params: 0\n",
            "_________________________________________________________________\n"
          ],
          "name": "stdout"
        }
      ]
    },
    {
      "cell_type": "code",
      "metadata": {
        "colab": {
          "base_uri": "https://localhost:8080/"
        },
        "id": "S8gyugOGunSw",
        "outputId": "e77da612-05bd-49c2-d299-c5913936ee46"
      },
      "source": [
        "model.summary()"
      ],
      "execution_count": 129,
      "outputs": [
        {
          "output_type": "stream",
          "text": [
            "Model: \"sequential_2\"\n",
            "_________________________________________________________________\n",
            "Layer (type)                 Output Shape              Param #   \n",
            "=================================================================\n",
            "lstm_6 (LSTM)                (None, 100, 50)           10400     \n",
            "_________________________________________________________________\n",
            "lstm_7 (LSTM)                (None, 100, 50)           20200     \n",
            "_________________________________________________________________\n",
            "lstm_8 (LSTM)                (None, 50)                20200     \n",
            "_________________________________________________________________\n",
            "dense_2 (Dense)              (None, 1)                 51        \n",
            "=================================================================\n",
            "Total params: 50,851\n",
            "Trainable params: 50,851\n",
            "Non-trainable params: 0\n",
            "_________________________________________________________________\n"
          ],
          "name": "stdout"
        }
      ]
    },
    {
      "cell_type": "code",
      "metadata": {
        "colab": {
          "base_uri": "https://localhost:8080/"
        },
        "id": "E7wZaVpRuvzH",
        "outputId": "90702d59-9fe1-4e6b-d93c-929144a2b374"
      },
      "source": [
        "model.fit(X_train,y_train,validation_data=(X_test,ytest),epochs=100,batch_size=64,verbose=1)"
      ],
      "execution_count": 130,
      "outputs": [
        {
          "output_type": "stream",
          "text": [
            "Epoch 1/100\n",
            "12/12 [==============================] - 8s 272ms/step - loss: 0.0159 - val_loss: 0.0500\n",
            "Epoch 2/100\n",
            "12/12 [==============================] - 2s 194ms/step - loss: 0.0032 - val_loss: 0.0257\n",
            "Epoch 3/100\n",
            "12/12 [==============================] - 2s 191ms/step - loss: 0.0012 - val_loss: 0.0239\n",
            "Epoch 4/100\n",
            "12/12 [==============================] - 2s 193ms/step - loss: 7.8644e-04 - val_loss: 0.0212\n",
            "Epoch 5/100\n",
            "12/12 [==============================] - 2s 206ms/step - loss: 5.1297e-04 - val_loss: 0.0198\n",
            "Epoch 6/100\n",
            "12/12 [==============================] - 2s 200ms/step - loss: 4.4238e-04 - val_loss: 0.0195\n",
            "Epoch 7/100\n",
            "12/12 [==============================] - 2s 200ms/step - loss: 3.9908e-04 - val_loss: 0.0189\n",
            "Epoch 8/100\n",
            "12/12 [==============================] - 2s 200ms/step - loss: 3.6764e-04 - val_loss: 0.0186\n",
            "Epoch 9/100\n",
            "12/12 [==============================] - 2s 201ms/step - loss: 3.5402e-04 - val_loss: 0.0182\n",
            "Epoch 10/100\n",
            "12/12 [==============================] - 2s 201ms/step - loss: 3.5519e-04 - val_loss: 0.0179\n",
            "Epoch 11/100\n",
            "12/12 [==============================] - 2s 201ms/step - loss: 3.4949e-04 - val_loss: 0.0176\n",
            "Epoch 12/100\n",
            "12/12 [==============================] - 2s 199ms/step - loss: 3.2646e-04 - val_loss: 0.0172\n",
            "Epoch 13/100\n",
            "12/12 [==============================] - 2s 200ms/step - loss: 2.9905e-04 - val_loss: 0.0165\n",
            "Epoch 14/100\n",
            "12/12 [==============================] - 2s 199ms/step - loss: 3.2898e-04 - val_loss: 0.0160\n",
            "Epoch 15/100\n",
            "12/12 [==============================] - 2s 200ms/step - loss: 3.1074e-04 - val_loss: 0.0155\n",
            "Epoch 16/100\n",
            "12/12 [==============================] - 2s 197ms/step - loss: 2.9296e-04 - val_loss: 0.0153\n",
            "Epoch 17/100\n",
            "12/12 [==============================] - 2s 196ms/step - loss: 2.8981e-04 - val_loss: 0.0145\n",
            "Epoch 18/100\n",
            "12/12 [==============================] - 2s 199ms/step - loss: 2.7310e-04 - val_loss: 0.0140\n",
            "Epoch 19/100\n",
            "12/12 [==============================] - 2s 199ms/step - loss: 2.6688e-04 - val_loss: 0.0135\n",
            "Epoch 20/100\n",
            "12/12 [==============================] - 2s 197ms/step - loss: 2.4473e-04 - val_loss: 0.0131\n",
            "Epoch 21/100\n",
            "12/12 [==============================] - 2s 198ms/step - loss: 2.3732e-04 - val_loss: 0.0129\n",
            "Epoch 22/100\n",
            "12/12 [==============================] - 2s 197ms/step - loss: 2.3178e-04 - val_loss: 0.0131\n",
            "Epoch 23/100\n",
            "12/12 [==============================] - 2s 203ms/step - loss: 2.3559e-04 - val_loss: 0.0133\n",
            "Epoch 24/100\n",
            "12/12 [==============================] - 2s 200ms/step - loss: 2.3301e-04 - val_loss: 0.0132\n",
            "Epoch 25/100\n",
            "12/12 [==============================] - 2s 200ms/step - loss: 2.1862e-04 - val_loss: 0.0131\n",
            "Epoch 26/100\n",
            "12/12 [==============================] - 2s 203ms/step - loss: 2.3851e-04 - val_loss: 0.0128\n",
            "Epoch 27/100\n",
            "12/12 [==============================] - 2s 209ms/step - loss: 2.2255e-04 - val_loss: 0.0131\n",
            "Epoch 28/100\n",
            "12/12 [==============================] - 2s 202ms/step - loss: 1.9737e-04 - val_loss: 0.0126\n",
            "Epoch 29/100\n",
            "12/12 [==============================] - 2s 207ms/step - loss: 1.9761e-04 - val_loss: 0.0132\n",
            "Epoch 30/100\n",
            "12/12 [==============================] - 3s 211ms/step - loss: 2.0460e-04 - val_loss: 0.0128\n",
            "Epoch 31/100\n",
            "12/12 [==============================] - 2s 205ms/step - loss: 1.8470e-04 - val_loss: 0.0129\n",
            "Epoch 32/100\n",
            "12/12 [==============================] - 2s 206ms/step - loss: 1.8182e-04 - val_loss: 0.0147\n",
            "Epoch 33/100\n",
            "12/12 [==============================] - 2s 200ms/step - loss: 2.3987e-04 - val_loss: 0.0122\n",
            "Epoch 34/100\n",
            "12/12 [==============================] - 2s 202ms/step - loss: 2.2126e-04 - val_loss: 0.0123\n",
            "Epoch 35/100\n",
            "12/12 [==============================] - 2s 205ms/step - loss: 1.9157e-04 - val_loss: 0.0116\n",
            "Epoch 36/100\n",
            "12/12 [==============================] - 3s 213ms/step - loss: 1.9432e-04 - val_loss: 0.0128\n",
            "Epoch 37/100\n",
            "12/12 [==============================] - 2s 210ms/step - loss: 1.6830e-04 - val_loss: 0.0123\n",
            "Epoch 38/100\n",
            "12/12 [==============================] - 2s 208ms/step - loss: 1.7305e-04 - val_loss: 0.0121\n",
            "Epoch 39/100\n",
            "12/12 [==============================] - 2s 205ms/step - loss: 1.9339e-04 - val_loss: 0.0123\n",
            "Epoch 40/100\n",
            "12/12 [==============================] - 2s 204ms/step - loss: 1.7448e-04 - val_loss: 0.0118\n",
            "Epoch 41/100\n",
            "12/12 [==============================] - 3s 209ms/step - loss: 1.8784e-04 - val_loss: 0.0131\n",
            "Epoch 42/100\n",
            "12/12 [==============================] - 2s 202ms/step - loss: 2.5436e-04 - val_loss: 0.0107\n",
            "Epoch 43/100\n",
            "12/12 [==============================] - 2s 209ms/step - loss: 1.9449e-04 - val_loss: 0.0107\n",
            "Epoch 44/100\n",
            "12/12 [==============================] - 2s 208ms/step - loss: 1.9279e-04 - val_loss: 0.0113\n",
            "Epoch 45/100\n",
            "12/12 [==============================] - 2s 208ms/step - loss: 2.1264e-04 - val_loss: 0.0112\n",
            "Epoch 46/100\n",
            "12/12 [==============================] - 2s 205ms/step - loss: 1.7341e-04 - val_loss: 0.0122\n",
            "Epoch 47/100\n",
            "12/12 [==============================] - 2s 209ms/step - loss: 1.6603e-04 - val_loss: 0.0122\n",
            "Epoch 48/100\n",
            "12/12 [==============================] - 2s 210ms/step - loss: 1.5108e-04 - val_loss: 0.0122\n",
            "Epoch 49/100\n",
            "12/12 [==============================] - 2s 204ms/step - loss: 1.5569e-04 - val_loss: 0.0120\n",
            "Epoch 50/100\n",
            "12/12 [==============================] - 2s 202ms/step - loss: 1.8089e-04 - val_loss: 0.0121\n",
            "Epoch 51/100\n",
            "12/12 [==============================] - 2s 203ms/step - loss: 1.6554e-04 - val_loss: 0.0120\n",
            "Epoch 52/100\n",
            "12/12 [==============================] - 2s 206ms/step - loss: 1.5164e-04 - val_loss: 0.0118\n",
            "Epoch 53/100\n",
            "12/12 [==============================] - 2s 208ms/step - loss: 1.5206e-04 - val_loss: 0.0121\n",
            "Epoch 54/100\n",
            "12/12 [==============================] - 2s 196ms/step - loss: 1.7044e-04 - val_loss: 0.0123\n",
            "Epoch 55/100\n",
            "12/12 [==============================] - 2s 206ms/step - loss: 1.5829e-04 - val_loss: 0.0119\n",
            "Epoch 56/100\n",
            "12/12 [==============================] - 2s 206ms/step - loss: 1.6717e-04 - val_loss: 0.0121\n",
            "Epoch 57/100\n",
            "12/12 [==============================] - 2s 206ms/step - loss: 1.5509e-04 - val_loss: 0.0122\n",
            "Epoch 58/100\n",
            "12/12 [==============================] - 3s 215ms/step - loss: 1.6152e-04 - val_loss: 0.0121\n",
            "Epoch 59/100\n",
            "12/12 [==============================] - 2s 203ms/step - loss: 1.4143e-04 - val_loss: 0.0116\n",
            "Epoch 60/100\n",
            "12/12 [==============================] - 2s 206ms/step - loss: 1.5693e-04 - val_loss: 0.0116\n",
            "Epoch 61/100\n",
            "12/12 [==============================] - 2s 206ms/step - loss: 1.3971e-04 - val_loss: 0.0115\n",
            "Epoch 62/100\n",
            "12/12 [==============================] - 2s 206ms/step - loss: 1.5324e-04 - val_loss: 0.0110\n",
            "Epoch 63/100\n",
            "12/12 [==============================] - 2s 200ms/step - loss: 1.8272e-04 - val_loss: 0.0101\n",
            "Epoch 64/100\n",
            "12/12 [==============================] - 2s 206ms/step - loss: 1.6352e-04 - val_loss: 0.0103\n",
            "Epoch 65/100\n",
            "12/12 [==============================] - 2s 202ms/step - loss: 1.3916e-04 - val_loss: 0.0112\n",
            "Epoch 66/100\n",
            "12/12 [==============================] - 2s 205ms/step - loss: 1.2852e-04 - val_loss: 0.0108\n",
            "Epoch 67/100\n",
            "12/12 [==============================] - 2s 204ms/step - loss: 1.2660e-04 - val_loss: 0.0109\n",
            "Epoch 68/100\n",
            "12/12 [==============================] - 2s 203ms/step - loss: 1.3482e-04 - val_loss: 0.0108\n",
            "Epoch 69/100\n",
            "12/12 [==============================] - 2s 202ms/step - loss: 1.2665e-04 - val_loss: 0.0113\n",
            "Epoch 70/100\n",
            "12/12 [==============================] - 2s 207ms/step - loss: 1.2974e-04 - val_loss: 0.0109\n",
            "Epoch 71/100\n",
            "12/12 [==============================] - 2s 209ms/step - loss: 1.5041e-04 - val_loss: 0.0114\n",
            "Epoch 72/100\n",
            "12/12 [==============================] - 2s 205ms/step - loss: 1.2999e-04 - val_loss: 0.0123\n",
            "Epoch 73/100\n",
            "12/12 [==============================] - 2s 207ms/step - loss: 1.3077e-04 - val_loss: 0.0109\n",
            "Epoch 74/100\n",
            "12/12 [==============================] - 2s 204ms/step - loss: 1.3299e-04 - val_loss: 0.0101\n",
            "Epoch 75/100\n",
            "12/12 [==============================] - 2s 203ms/step - loss: 1.2563e-04 - val_loss: 0.0114\n",
            "Epoch 76/100\n",
            "12/12 [==============================] - 2s 205ms/step - loss: 1.4893e-04 - val_loss: 0.0120\n",
            "Epoch 77/100\n",
            "12/12 [==============================] - 2s 199ms/step - loss: 1.2290e-04 - val_loss: 0.0112\n",
            "Epoch 78/100\n",
            "12/12 [==============================] - 2s 202ms/step - loss: 1.3548e-04 - val_loss: 0.0106\n",
            "Epoch 79/100\n",
            "12/12 [==============================] - 2s 201ms/step - loss: 2.1425e-04 - val_loss: 0.0101\n",
            "Epoch 80/100\n",
            "12/12 [==============================] - 2s 204ms/step - loss: 1.7511e-04 - val_loss: 0.0091\n",
            "Epoch 81/100\n",
            "12/12 [==============================] - 2s 204ms/step - loss: 1.3362e-04 - val_loss: 0.0099\n",
            "Epoch 82/100\n",
            "12/12 [==============================] - 2s 204ms/step - loss: 1.2942e-04 - val_loss: 0.0119\n",
            "Epoch 83/100\n",
            "12/12 [==============================] - 2s 204ms/step - loss: 1.1063e-04 - val_loss: 0.0113\n",
            "Epoch 84/100\n",
            "12/12 [==============================] - 2s 208ms/step - loss: 1.2083e-04 - val_loss: 0.0099\n",
            "Epoch 85/100\n",
            "12/12 [==============================] - 2s 209ms/step - loss: 1.3159e-04 - val_loss: 0.0114\n",
            "Epoch 86/100\n",
            "12/12 [==============================] - 2s 207ms/step - loss: 1.2562e-04 - val_loss: 0.0122\n",
            "Epoch 87/100\n",
            "12/12 [==============================] - 2s 208ms/step - loss: 1.2649e-04 - val_loss: 0.0094\n",
            "Epoch 88/100\n",
            "12/12 [==============================] - 2s 205ms/step - loss: 1.1844e-04 - val_loss: 0.0098\n",
            "Epoch 89/100\n",
            "12/12 [==============================] - 2s 206ms/step - loss: 1.1754e-04 - val_loss: 0.0091\n",
            "Epoch 90/100\n",
            "12/12 [==============================] - 2s 207ms/step - loss: 1.0123e-04 - val_loss: 0.0120\n",
            "Epoch 91/100\n",
            "12/12 [==============================] - 2s 203ms/step - loss: 1.3054e-04 - val_loss: 0.0101\n",
            "Epoch 92/100\n",
            "12/12 [==============================] - 2s 204ms/step - loss: 1.3258e-04 - val_loss: 0.0092\n",
            "Epoch 93/100\n",
            "12/12 [==============================] - 2s 211ms/step - loss: 1.3108e-04 - val_loss: 0.0110\n",
            "Epoch 94/100\n",
            "12/12 [==============================] - 2s 199ms/step - loss: 1.2099e-04 - val_loss: 0.0103\n",
            "Epoch 95/100\n",
            "12/12 [==============================] - 2s 201ms/step - loss: 1.3851e-04 - val_loss: 0.0093\n",
            "Epoch 96/100\n",
            "12/12 [==============================] - 2s 200ms/step - loss: 1.1904e-04 - val_loss: 0.0105\n",
            "Epoch 97/100\n",
            "12/12 [==============================] - 2s 206ms/step - loss: 9.4776e-05 - val_loss: 0.0116\n",
            "Epoch 98/100\n",
            "12/12 [==============================] - 2s 202ms/step - loss: 1.1079e-04 - val_loss: 0.0091\n",
            "Epoch 99/100\n",
            "12/12 [==============================] - 2s 204ms/step - loss: 1.0762e-04 - val_loss: 0.0091\n",
            "Epoch 100/100\n",
            "12/12 [==============================] - 2s 206ms/step - loss: 1.1605e-04 - val_loss: 0.0109\n"
          ],
          "name": "stdout"
        },
        {
          "output_type": "execute_result",
          "data": {
            "text/plain": [
              "<tensorflow.python.keras.callbacks.History at 0x7f7761667c90>"
            ]
          },
          "metadata": {
            "tags": []
          },
          "execution_count": 130
        }
      ]
    },
    {
      "cell_type": "code",
      "metadata": {
        "id": "w7S9FqObvyuM"
      },
      "source": [
        "import tensorflow as tf"
      ],
      "execution_count": 131,
      "outputs": []
    },
    {
      "cell_type": "code",
      "metadata": {
        "colab": {
          "base_uri": "https://localhost:8080/",
          "height": 35
        },
        "id": "bWdahcmfv13W",
        "outputId": "1ca2f1b2-dabb-40d6-b014-505a7d350211"
      },
      "source": [
        "tf.__version__"
      ],
      "execution_count": 132,
      "outputs": [
        {
          "output_type": "execute_result",
          "data": {
            "application/vnd.google.colaboratory.intrinsic+json": {
              "type": "string"
            },
            "text/plain": [
              "'2.4.1'"
            ]
          },
          "metadata": {
            "tags": []
          },
          "execution_count": 132
        }
      ]
    },
    {
      "cell_type": "code",
      "metadata": {
        "id": "RbDkoA_av7Rp"
      },
      "source": [
        "### Lets Do the prediction and check performance metrics\n",
        "train_predict=model.predict(X_train)\n",
        "test_predict=model.predict(X_test)"
      ],
      "execution_count": 133,
      "outputs": []
    },
    {
      "cell_type": "code",
      "metadata": {
        "id": "bADkiX_6v_uk"
      },
      "source": [
        "##Transformback to original form\n",
        "train_predict=scaler.inverse_transform(train_predict)\n",
        "test_predict=scaler.inverse_transform(test_predict)"
      ],
      "execution_count": 134,
      "outputs": []
    },
    {
      "cell_type": "code",
      "metadata": {
        "colab": {
          "base_uri": "https://localhost:8080/"
        },
        "id": "7QAdh6P5wFeK",
        "outputId": "d73ef9cd-c26e-48c3-f5b4-b331604faa31"
      },
      "source": [
        "### Calculate RMSE performance metrics\n",
        "import math\n",
        "from sklearn.metrics import mean_squared_error\n",
        "math.sqrt(mean_squared_error(y_train,train_predict))"
      ],
      "execution_count": 135,
      "outputs": [
        {
          "output_type": "execute_result",
          "data": {
            "text/plain": [
              "169.52490425077403"
            ]
          },
          "metadata": {
            "tags": []
          },
          "execution_count": 135
        }
      ]
    },
    {
      "cell_type": "code",
      "metadata": {
        "colab": {
          "base_uri": "https://localhost:8080/"
        },
        "id": "vtpbsbuewKfV",
        "outputId": "2cd97909-d6c5-45b0-9959-07c290dc0668"
      },
      "source": [
        "### Test Data RMSE\n",
        "math.sqrt(mean_squared_error(ytest,test_predict))"
      ],
      "execution_count": 136,
      "outputs": [
        {
          "output_type": "execute_result",
          "data": {
            "text/plain": [
              "273.31598666027304"
            ]
          },
          "metadata": {
            "tags": []
          },
          "execution_count": 136
        }
      ]
    },
    {
      "cell_type": "code",
      "metadata": {
        "colab": {
          "base_uri": "https://localhost:8080/",
          "height": 265
        },
        "id": "9YZjc2E0wQ8a",
        "outputId": "b55eea43-8983-425a-c2f5-692f5e7a6ec6"
      },
      "source": [
        "### Plotting \n",
        "# shift train predictions for plotting\n",
        "look_back=100\n",
        "trainPredictPlot = numpy.empty_like(df1)\n",
        "trainPredictPlot[:, :] = np.nan\n",
        "trainPredictPlot[look_back:len(train_predict)+look_back, :] = train_predict\n",
        "# shift test predictions for plotting\n",
        "testPredictPlot = numpy.empty_like(df1)\n",
        "testPredictPlot[:, :] = numpy.nan\n",
        "testPredictPlot[len(train_predict)+(look_back*2)+1:len(df1)-1, :] = test_predict\n",
        "# plot baseline and predictions\n",
        "plt.plot(scaler.inverse_transform(df1))\n",
        "plt.plot(trainPredictPlot)\n",
        "plt.plot(testPredictPlot)\n",
        "plt.show()"
      ],
      "execution_count": 137,
      "outputs": [
        {
          "output_type": "display_data",
          "data": {
            "image/png": "[encoded data removed]",
            "text/plain": [
              "<Figure size 432x288 with 1 Axes>"
            ]
          },
          "metadata": {
            "tags": [],
            "needs_background": "light"
          }
        }
      ]
    },
    {
      "cell_type": "code",
      "metadata": {
        "colab": {
          "base_uri": "https://localhost:8080/"
        },
        "id": "4THQ3QpnwW_2",
        "outputId": "11144368-6623-498b-b420-5b56131a6ca8"
      },
      "source": [
        "len(test_data)"
      ],
      "execution_count": 138,
      "outputs": [
        {
          "output_type": "execute_result",
          "data": {
            "text/plain": [
              "440"
            ]
          },
          "metadata": {
            "tags": []
          },
          "execution_count": 138
        }
      ]
    },
    {
      "cell_type": "code",
      "metadata": {
        "colab": {
          "base_uri": "https://localhost:8080/"
        },
        "id": "NNYdS-7xweW8",
        "outputId": "896ee4f8-e355-4ed0-bebb-e4246ce80260"
      },
      "source": [
        "x_input=test_data[341:].reshape(1,-1)\n",
        "x_input.shape"
      ],
      "execution_count": 139,
      "outputs": [
        {
          "output_type": "execute_result",
          "data": {
            "text/plain": [
              "(1, 99)"
            ]
          },
          "metadata": {
            "tags": []
          },
          "execution_count": 139
        }
      ]
    },
    {
      "cell_type": "code",
      "metadata": {
        "id": "Sz7lXS5Uwloc"
      },
      "source": [
        "temp_input=list(x_input)\n",
        "temp_input=temp_input[0].tolist()"
      ],
      "execution_count": 140,
      "outputs": []
    },
    {
      "cell_type": "code",
      "metadata": {
        "colab": {
          "base_uri": "https://localhost:8080/"
        },
        "id": "0drrd_AgwnwO",
        "outputId": "5520962a-19db-4858-bf17-26b75ea0a9d8"
      },
      "source": [
        "temp_input"
      ],
      "execution_count": 141,
      "outputs": [
        {
          "output_type": "execute_result",
          "data": {
            "text/plain": [
              "[0.05972339146121464,\n",
              " 0.06179194227300061,\n",
              " 0.06313890559230306,\n",
              " 0.06905592303066743,\n",
              " 0.07788334335538183,\n",
              " 0.07874924834636199,\n",
              " 0.07841250751653633,\n",
              " 0.07675285628382439,\n",
              " 0.08036079374624172,\n",
              " 0.08187612748045697,\n",
              " 0.07562236921226695,\n",
              " 0.0791340950090198,\n",
              " 0.07713770294648226,\n",
              " 0.07562236921226695,\n",
              " 0.0902946482260974,\n",
              " 0.0901262778111846,\n",
              " 0.09226698737221883,\n",
              " 0.08734816596512324,\n",
              " 0.0911365003006614,\n",
              " 0.09991581479254358,\n",
              " 0.09770294648226097,\n",
              " 0.10013229104028859,\n",
              " 0.11148526758869509,\n",
              " 0.10710763680096214,\n",
              " 0.1043415514131088,\n",
              " 0.10186410102224891,\n",
              " 0.09397474443776305,\n",
              " 0.0978232110643415,\n",
              " 0.08721587492483462,\n",
              " 0.09760673481659649,\n",
              " 0.10032471437161755,\n",
              " 0.09294046903187009,\n",
              " 0.09250751653638006,\n",
              " 0.09753457606734811,\n",
              " 0.09277209861695729,\n",
              " 0.08851473241130486,\n",
              " 0.09017438364401681,\n",
              " 0.10027660853878534,\n",
              " 0.11191822008418523,\n",
              " 0.11720986169573056,\n",
              " 0.12647023451593503,\n",
              " 0.1270475045099218,\n",
              " 0.12440168370414911,\n",
              " 0.11244738424533973,\n",
              " 0.10010823812387254,\n",
              " 0.10535177390258565,\n",
              " 0.10739627179795552,\n",
              " 0.10487071557426336,\n",
              " 0.11316897173782314,\n",
              " 0.11165363800360789,\n",
              " 0.11201443174984965,\n",
              " 0.10984966927239925,\n",
              " 0.10835838845460005,\n",
              " 0.10773301262778107,\n",
              " 0.1083102826217679,\n",
              " 0.10306674684305472,\n",
              " 0.09741431148526758,\n",
              " 0.09469633193024657,\n",
              " 0.09508117859290438,\n",
              " 0.08577269993986769,\n",
              " 0.08543595911004209,\n",
              " 0.08420926037282017,\n",
              " 0.07372218881539383,\n",
              " 0.07437161755862898,\n",
              " 0.09007817197835238,\n",
              " 0.08365604329524956,\n",
              " 0.0762958508719182,\n",
              " 0.07165363800360791,\n",
              " 0.07475646422128684,\n",
              " 0.0625856885147324,\n",
              " 0.07395069152134692,\n",
              " 0.0712928442573662,\n",
              " 0.07605532170775703,\n",
              " 0.07381840048105831,\n",
              " 0.0809380637402285,\n",
              " 0.08473842453397473,\n",
              " 0.0827901383042694,\n",
              " 0.07261575466025255,\n",
              " 0.07131689717378231,\n",
              " 0.07949488875526156,\n",
              " 0.07745039085989175,\n",
              " 0.07155742633794349,\n",
              " 0.07276007215874924,\n",
              " 0.07425135297654839,\n",
              " 0.07468430547203847,\n",
              " 0.0711004209260373,\n",
              " 0.07651232711966327,\n",
              " 0.07855682501503308,\n",
              " 0.08553217077570657,\n",
              " 0.08627781118460609,\n",
              " 0.09034275405892966,\n",
              " 0.09625977149729409,\n",
              " 0.10259771497294046,\n",
              " 0.09837642814191222,\n",
              " 0.10604930847865301,\n",
              " 0.10027660853878534,\n",
              " 0.10621767889356581,\n",
              " 0.10539987973541787,\n",
              " 0.10703547805171376]"
            ]
          },
          "metadata": {
            "tags": []
          },
          "execution_count": 141
        }
      ]
    },
    {
      "cell_type": "code",
      "metadata": {
        "colab": {
          "base_uri": "https://localhost:8080/"
        },
        "id": "HZu0EXVkw2I_",
        "outputId": "999ef043-8125-4ee3-8472-1ef907de0937"
      },
      "source": [
        "# demonstrate prediction for next 10 days\n",
        "from numpy import array\n",
        "\n",
        "lst_output=[]\n",
        "n_steps=100\n",
        "i=0\n",
        "while(i<30):\n",
        "    \n",
        "    if(len(temp_input)>100):\n",
        "        #print(temp_input)\n",
        "        x_input=np.array(temp_input[1:])\n",
        "        print(\"{} day input {}\".format(i,x_input))\n",
        "        x_input=x_input.reshape(1,-1)\n",
        "        x_input = x_input.reshape((1, n_steps, 1))\n",
        "        #print(x_input)\n",
        "        yhat = model.predict(x_input, verbose=0)\n",
        "        print(\"{} day output {}\".format(i,yhat))\n",
        "        temp_input.extend(yhat[0].tolist())\n",
        "        temp_input=temp_input[1:]\n",
        "        #print(temp_input)\n",
        "        lst_output.extend(yhat.tolist())\n",
        "        i=i+1\n",
        "    else:\n",
        "        x_input = x_input.reshape((1, n_steps-1,1))\n",
        "        yhat = model.predict(x_input, verbose=0)\n",
        "        print(yhat[0])\n",
        "        temp_input.extend(yhat[0].tolist())\n",
        "        print(len(temp_input))\n",
        "        lst_output.extend(yhat.tolist())\n",
        "        i=i+1\n",
        "    \n",
        "\n",
        "print(lst_output)"
      ],
      "execution_count": 143,
      "outputs": [
        {
          "output_type": "stream",
          "text": [
            "WARNING:tensorflow:Model was constructed with shape (None, 100, 1) for input KerasTensor(type_spec=TensorSpec(shape=(None, 100, 1), dtype=tf.float32, name='lstm_6_input'), name='lstm_6_input', description=\"created by layer 'lstm_6_input'\"), but it was called on an input with incompatible shape (None, 99, 1).\n",
            "[0.10652394]\n",
            "100\n",
            "[0.10652394]\n",
            "101\n",
            "2 day input [0.06179194 0.06313891 0.06905592 0.07788334 0.07874925 0.07841251\n",
            " 0.07675286 0.08036079 0.08187613 0.07562237 0.0791341  0.0771377\n",
            " 0.07562237 0.09029465 0.09012628 0.09226699 0.08734817 0.0911365\n",
            " 0.09991581 0.09770295 0.10013229 0.11148527 0.10710764 0.10434155\n",
            " 0.1018641  0.09397474 0.09782321 0.08721587 0.09760673 0.10032471\n",
            " 0.09294047 0.09250752 0.09753458 0.0927721  0.08851473 0.09017438\n",
            " 0.10027661 0.11191822 0.11720986 0.12647023 0.1270475  0.12440168\n",
            " 0.11244738 0.10010824 0.10535177 0.10739627 0.10487072 0.11316897\n",
            " 0.11165364 0.11201443 0.10984967 0.10835839 0.10773301 0.10831028\n",
            " 0.10306675 0.09741431 0.09469633 0.09508118 0.0857727  0.08543596\n",
            " 0.08420926 0.07372219 0.07437162 0.09007817 0.08365604 0.07629585\n",
            " 0.07165364 0.07475646 0.06258569 0.07395069 0.07129284 0.07605532\n",
            " 0.0738184  0.08093806 0.08473842 0.08279014 0.07261575 0.0713169\n",
            " 0.07949489 0.07745039 0.07155743 0.07276007 0.07425135 0.07468431\n",
            " 0.07110042 0.07651233 0.07855683 0.08553217 0.08627781 0.09034275\n",
            " 0.09625977 0.10259771 0.09837643 0.10604931 0.10027661 0.10621768\n",
            " 0.10539988 0.10703548 0.10652394 0.10652394]\n",
            "2 day output [[0.1081431]]\n",
            "3 day input [0.06313891 0.06905592 0.07788334 0.07874925 0.07841251 0.07675286\n",
            " 0.08036079 0.08187613 0.07562237 0.0791341  0.0771377  0.07562237\n",
            " 0.09029465 0.09012628 0.09226699 0.08734817 0.0911365  0.09991581\n",
            " 0.09770295 0.10013229 0.11148527 0.10710764 0.10434155 0.1018641\n",
            " 0.09397474 0.09782321 0.08721587 0.09760673 0.10032471 0.09294047\n",
            " 0.09250752 0.09753458 0.0927721  0.08851473 0.09017438 0.10027661\n",
            " 0.11191822 0.11720986 0.12647023 0.1270475  0.12440168 0.11244738\n",
            " 0.10010824 0.10535177 0.10739627 0.10487072 0.11316897 0.11165364\n",
            " 0.11201443 0.10984967 0.10835839 0.10773301 0.10831028 0.10306675\n",
            " 0.09741431 0.09469633 0.09508118 0.0857727  0.08543596 0.08420926\n",
            " 0.07372219 0.07437162 0.09007817 0.08365604 0.07629585 0.07165364\n",
            " 0.07475646 0.06258569 0.07395069 0.07129284 0.07605532 0.0738184\n",
            " 0.08093806 0.08473842 0.08279014 0.07261575 0.0713169  0.07949489\n",
            " 0.07745039 0.07155743 0.07276007 0.07425135 0.07468431 0.07110042\n",
            " 0.07651233 0.07855683 0.08553217 0.08627781 0.09034275 0.09625977\n",
            " 0.10259771 0.09837643 0.10604931 0.10027661 0.10621768 0.10539988\n",
            " 0.10703548 0.10652394 0.10652394 0.1081431 ]\n",
            "3 day output [[0.10864287]]\n",
            "4 day input [0.06905592 0.07788334 0.07874925 0.07841251 0.07675286 0.08036079\n",
            " 0.08187613 0.07562237 0.0791341  0.0771377  0.07562237 0.09029465\n",
            " 0.09012628 0.09226699 0.08734817 0.0911365  0.09991581 0.09770295\n",
            " 0.10013229 0.11148527 0.10710764 0.10434155 0.1018641  0.09397474\n",
            " 0.09782321 0.08721587 0.09760673 0.10032471 0.09294047 0.09250752\n",
            " 0.09753458 0.0927721  0.08851473 0.09017438 0.10027661 0.11191822\n",
            " 0.11720986 0.12647023 0.1270475  0.12440168 0.11244738 0.10010824\n",
            " 0.10535177 0.10739627 0.10487072 0.11316897 0.11165364 0.11201443\n",
            " 0.10984967 0.10835839 0.10773301 0.10831028 0.10306675 0.09741431\n",
            " 0.09469633 0.09508118 0.0857727  0.08543596 0.08420926 0.07372219\n",
            " 0.07437162 0.09007817 0.08365604 0.07629585 0.07165364 0.07475646\n",
            " 0.06258569 0.07395069 0.07129284 0.07605532 0.0738184  0.08093806\n",
            " 0.08473842 0.08279014 0.07261575 0.0713169  0.07949489 0.07745039\n",
            " 0.07155743 0.07276007 0.07425135 0.07468431 0.07110042 0.07651233\n",
            " 0.07855683 0.08553217 0.08627781 0.09034275 0.09625977 0.10259771\n",
            " 0.09837643 0.10604931 0.10027661 0.10621768 0.10539988 0.10703548\n",
            " 0.10652394 0.10652394 0.1081431  0.10864287]\n",
            "4 day output [[0.10912066]]\n",
            "5 day input [0.07788334 0.07874925 0.07841251 0.07675286 0.08036079 0.08187613\n",
            " 0.07562237 0.0791341  0.0771377  0.07562237 0.09029465 0.09012628\n",
            " 0.09226699 0.08734817 0.0911365  0.09991581 0.09770295 0.10013229\n",
            " 0.11148527 0.10710764 0.10434155 0.1018641  0.09397474 0.09782321\n",
            " 0.08721587 0.09760673 0.10032471 0.09294047 0.09250752 0.09753458\n",
            " 0.0927721  0.08851473 0.09017438 0.10027661 0.11191822 0.11720986\n",
            " 0.12647023 0.1270475  0.12440168 0.11244738 0.10010824 0.10535177\n",
            " 0.10739627 0.10487072 0.11316897 0.11165364 0.11201443 0.10984967\n",
            " 0.10835839 0.10773301 0.10831028 0.10306675 0.09741431 0.09469633\n",
            " 0.09508118 0.0857727  0.08543596 0.08420926 0.07372219 0.07437162\n",
            " 0.09007817 0.08365604 0.07629585 0.07165364 0.07475646 0.06258569\n",
            " 0.07395069 0.07129284 0.07605532 0.0738184  0.08093806 0.08473842\n",
            " 0.08279014 0.07261575 0.0713169  0.07949489 0.07745039 0.07155743\n",
            " 0.07276007 0.07425135 0.07468431 0.07110042 0.07651233 0.07855683\n",
            " 0.08553217 0.08627781 0.09034275 0.09625977 0.10259771 0.09837643\n",
            " 0.10604931 0.10027661 0.10621768 0.10539988 0.10703548 0.10652394\n",
            " 0.10652394 0.1081431  0.10864287 0.10912066]\n",
            "5 day output [[0.10962866]]\n",
            "6 day input [0.07874925 0.07841251 0.07675286 0.08036079 0.08187613 0.07562237\n",
            " 0.0791341  0.0771377  0.07562237 0.09029465 0.09012628 0.09226699\n",
            " 0.08734817 0.0911365  0.09991581 0.09770295 0.10013229 0.11148527\n",
            " 0.10710764 0.10434155 0.1018641  0.09397474 0.09782321 0.08721587\n",
            " 0.09760673 0.10032471 0.09294047 0.09250752 0.09753458 0.0927721\n",
            " 0.08851473 0.09017438 0.10027661 0.11191822 0.11720986 0.12647023\n",
            " 0.1270475  0.12440168 0.11244738 0.10010824 0.10535177 0.10739627\n",
            " 0.10487072 0.11316897 0.11165364 0.11201443 0.10984967 0.10835839\n",
            " 0.10773301 0.10831028 0.10306675 0.09741431 0.09469633 0.09508118\n",
            " 0.0857727  0.08543596 0.08420926 0.07372219 0.07437162 0.09007817\n",
            " 0.08365604 0.07629585 0.07165364 0.07475646 0.06258569 0.07395069\n",
            " 0.07129284 0.07605532 0.0738184  0.08093806 0.08473842 0.08279014\n",
            " 0.07261575 0.0713169  0.07949489 0.07745039 0.07155743 0.07276007\n",
            " 0.07425135 0.07468431 0.07110042 0.07651233 0.07855683 0.08553217\n",
            " 0.08627781 0.09034275 0.09625977 0.10259771 0.09837643 0.10604931\n",
            " 0.10027661 0.10621768 0.10539988 0.10703548 0.10652394 0.10652394\n",
            " 0.1081431  0.10864287 0.10912066 0.10962866]\n",
            "6 day output [[0.11018631]]\n",
            "7 day input [0.07841251 0.07675286 0.08036079 0.08187613 0.07562237 0.0791341\n",
            " 0.0771377  0.07562237 0.09029465 0.09012628 0.09226699 0.08734817\n",
            " 0.0911365  0.09991581 0.09770295 0.10013229 0.11148527 0.10710764\n",
            " 0.10434155 0.1018641  0.09397474 0.09782321 0.08721587 0.09760673\n",
            " 0.10032471 0.09294047 0.09250752 0.09753458 0.0927721  0.08851473\n",
            " 0.09017438 0.10027661 0.11191822 0.11720986 0.12647023 0.1270475\n",
            " 0.12440168 0.11244738 0.10010824 0.10535177 0.10739627 0.10487072\n",
            " 0.11316897 0.11165364 0.11201443 0.10984967 0.10835839 0.10773301\n",
            " 0.10831028 0.10306675 0.09741431 0.09469633 0.09508118 0.0857727\n",
            " 0.08543596 0.08420926 0.07372219 0.07437162 0.09007817 0.08365604\n",
            " 0.07629585 0.07165364 0.07475646 0.06258569 0.07395069 0.07129284\n",
            " 0.07605532 0.0738184  0.08093806 0.08473842 0.08279014 0.07261575\n",
            " 0.0713169  0.07949489 0.07745039 0.07155743 0.07276007 0.07425135\n",
            " 0.07468431 0.07110042 0.07651233 0.07855683 0.08553217 0.08627781\n",
            " 0.09034275 0.09625977 0.10259771 0.09837643 0.10604931 0.10027661\n",
            " 0.10621768 0.10539988 0.10703548 0.10652394 0.10652394 0.1081431\n",
            " 0.10864287 0.10912066 0.10962866 0.11018631]\n",
            "7 day output [[0.1107978]]\n",
            "8 day input [0.07675286 0.08036079 0.08187613 0.07562237 0.0791341  0.0771377\n",
            " 0.07562237 0.09029465 0.09012628 0.09226699 0.08734817 0.0911365\n",
            " 0.09991581 0.09770295 0.10013229 0.11148527 0.10710764 0.10434155\n",
            " 0.1018641  0.09397474 0.09782321 0.08721587 0.09760673 0.10032471\n",
            " 0.09294047 0.09250752 0.09753458 0.0927721  0.08851473 0.09017438\n",
            " 0.10027661 0.11191822 0.11720986 0.12647023 0.1270475  0.12440168\n",
            " 0.11244738 0.10010824 0.10535177 0.10739627 0.10487072 0.11316897\n",
            " 0.11165364 0.11201443 0.10984967 0.10835839 0.10773301 0.10831028\n",
            " 0.10306675 0.09741431 0.09469633 0.09508118 0.0857727  0.08543596\n",
            " 0.08420926 0.07372219 0.07437162 0.09007817 0.08365604 0.07629585\n",
            " 0.07165364 0.07475646 0.06258569 0.07395069 0.07129284 0.07605532\n",
            " 0.0738184  0.08093806 0.08473842 0.08279014 0.07261575 0.0713169\n",
            " 0.07949489 0.07745039 0.07155743 0.07276007 0.07425135 0.07468431\n",
            " 0.07110042 0.07651233 0.07855683 0.08553217 0.08627781 0.09034275\n",
            " 0.09625977 0.10259771 0.09837643 0.10604931 0.10027661 0.10621768\n",
            " 0.10539988 0.10703548 0.10652394 0.10652394 0.1081431  0.10864287\n",
            " 0.10912066 0.10962866 0.11018631 0.1107978 ]\n",
            "8 day output [[0.11146161]]\n",
            "9 day input [0.08036079 0.08187613 0.07562237 0.0791341  0.0771377  0.07562237\n",
            " 0.09029465 0.09012628 0.09226699 0.08734817 0.0911365  0.09991581\n",
            " 0.09770295 0.10013229 0.11148527 0.10710764 0.10434155 0.1018641\n",
            " 0.09397474 0.09782321 0.08721587 0.09760673 0.10032471 0.09294047\n",
            " 0.09250752 0.09753458 0.0927721  0.08851473 0.09017438 0.10027661\n",
            " 0.11191822 0.11720986 0.12647023 0.1270475  0.12440168 0.11244738\n",
            " 0.10010824 0.10535177 0.10739627 0.10487072 0.11316897 0.11165364\n",
            " 0.11201443 0.10984967 0.10835839 0.10773301 0.10831028 0.10306675\n",
            " 0.09741431 0.09469633 0.09508118 0.0857727  0.08543596 0.08420926\n",
            " 0.07372219 0.07437162 0.09007817 0.08365604 0.07629585 0.07165364\n",
            " 0.07475646 0.06258569 0.07395069 0.07129284 0.07605532 0.0738184\n",
            " 0.08093806 0.08473842 0.08279014 0.07261575 0.0713169  0.07949489\n",
            " 0.07745039 0.07155743 0.07276007 0.07425135 0.07468431 0.07110042\n",
            " 0.07651233 0.07855683 0.08553217 0.08627781 0.09034275 0.09625977\n",
            " 0.10259771 0.09837643 0.10604931 0.10027661 0.10621768 0.10539988\n",
            " 0.10703548 0.10652394 0.10652394 0.1081431  0.10864287 0.10912066\n",
            " 0.10962866 0.11018631 0.1107978  0.11146161]\n",
            "9 day output [[0.11217435]]\n",
            "10 day input [0.08187613 0.07562237 0.0791341  0.0771377  0.07562237 0.09029465\n",
            " 0.09012628 0.09226699 0.08734817 0.0911365  0.09991581 0.09770295\n",
            " 0.10013229 0.11148527 0.10710764 0.10434155 0.1018641  0.09397474\n",
            " 0.09782321 0.08721587 0.09760673 0.10032471 0.09294047 0.09250752\n",
            " 0.09753458 0.0927721  0.08851473 0.09017438 0.10027661 0.11191822\n",
            " 0.11720986 0.12647023 0.1270475  0.12440168 0.11244738 0.10010824\n",
            " 0.10535177 0.10739627 0.10487072 0.11316897 0.11165364 0.11201443\n",
            " 0.10984967 0.10835839 0.10773301 0.10831028 0.10306675 0.09741431\n",
            " 0.09469633 0.09508118 0.0857727  0.08543596 0.08420926 0.07372219\n",
            " 0.07437162 0.09007817 0.08365604 0.07629585 0.07165364 0.07475646\n",
            " 0.06258569 0.07395069 0.07129284 0.07605532 0.0738184  0.08093806\n",
            " 0.08473842 0.08279014 0.07261575 0.0713169  0.07949489 0.07745039\n",
            " 0.07155743 0.07276007 0.07425135 0.07468431 0.07110042 0.07651233\n",
            " 0.07855683 0.08553217 0.08627781 0.09034275 0.09625977 0.10259771\n",
            " 0.09837643 0.10604931 0.10027661 0.10621768 0.10539988 0.10703548\n",
            " 0.10652394 0.10652394 0.1081431  0.10864287 0.10912066 0.10962866\n",
            " 0.11018631 0.1107978  0.11146161 0.11217435]\n",
            "10 day output [[0.11293194]]\n",
            "11 day input [0.07562237 0.0791341  0.0771377  0.07562237 0.09029465 0.09012628\n",
            " 0.09226699 0.08734817 0.0911365  0.09991581 0.09770295 0.10013229\n",
            " 0.11148527 0.10710764 0.10434155 0.1018641  0.09397474 0.09782321\n",
            " 0.08721587 0.09760673 0.10032471 0.09294047 0.09250752 0.09753458\n",
            " 0.0927721  0.08851473 0.09017438 0.10027661 0.11191822 0.11720986\n",
            " 0.12647023 0.1270475  0.12440168 0.11244738 0.10010824 0.10535177\n",
            " 0.10739627 0.10487072 0.11316897 0.11165364 0.11201443 0.10984967\n",
            " 0.10835839 0.10773301 0.10831028 0.10306675 0.09741431 0.09469633\n",
            " 0.09508118 0.0857727  0.08543596 0.08420926 0.07372219 0.07437162\n",
            " 0.09007817 0.08365604 0.07629585 0.07165364 0.07475646 0.06258569\n",
            " 0.07395069 0.07129284 0.07605532 0.0738184  0.08093806 0.08473842\n",
            " 0.08279014 0.07261575 0.0713169  0.07949489 0.07745039 0.07155743\n",
            " 0.07276007 0.07425135 0.07468431 0.07110042 0.07651233 0.07855683\n",
            " 0.08553217 0.08627781 0.09034275 0.09625977 0.10259771 0.09837643\n",
            " 0.10604931 0.10027661 0.10621768 0.10539988 0.10703548 0.10652394\n",
            " 0.10652394 0.1081431  0.10864287 0.10912066 0.10962866 0.11018631\n",
            " 0.1107978  0.11146161 0.11217435 0.11293194]\n",
            "11 day output [[0.11372996]]\n",
            "12 day input [0.0791341  0.0771377  0.07562237 0.09029465 0.09012628 0.09226699\n",
            " 0.08734817 0.0911365  0.09991581 0.09770295 0.10013229 0.11148527\n",
            " 0.10710764 0.10434155 0.1018641  0.09397474 0.09782321 0.08721587\n",
            " 0.09760673 0.10032471 0.09294047 0.09250752 0.09753458 0.0927721\n",
            " 0.08851473 0.09017438 0.10027661 0.11191822 0.11720986 0.12647023\n",
            " 0.1270475  0.12440168 0.11244738 0.10010824 0.10535177 0.10739627\n",
            " 0.10487072 0.11316897 0.11165364 0.11201443 0.10984967 0.10835839\n",
            " 0.10773301 0.10831028 0.10306675 0.09741431 0.09469633 0.09508118\n",
            " 0.0857727  0.08543596 0.08420926 0.07372219 0.07437162 0.09007817\n",
            " 0.08365604 0.07629585 0.07165364 0.07475646 0.06258569 0.07395069\n",
            " 0.07129284 0.07605532 0.0738184  0.08093806 0.08473842 0.08279014\n",
            " 0.07261575 0.0713169  0.07949489 0.07745039 0.07155743 0.07276007\n",
            " 0.07425135 0.07468431 0.07110042 0.07651233 0.07855683 0.08553217\n",
            " 0.08627781 0.09034275 0.09625977 0.10259771 0.09837643 0.10604931\n",
            " 0.10027661 0.10621768 0.10539988 0.10703548 0.10652394 0.10652394\n",
            " 0.1081431  0.10864287 0.10912066 0.10962866 0.11018631 0.1107978\n",
            " 0.11146161 0.11217435 0.11293194 0.11372996]\n",
            "12 day output [[0.11456356]]\n",
            "13 day input [0.0771377  0.07562237 0.09029465 0.09012628 0.09226699 0.08734817\n",
            " 0.0911365  0.09991581 0.09770295 0.10013229 0.11148527 0.10710764\n",
            " 0.10434155 0.1018641  0.09397474 0.09782321 0.08721587 0.09760673\n",
            " 0.10032471 0.09294047 0.09250752 0.09753458 0.0927721  0.08851473\n",
            " 0.09017438 0.10027661 0.11191822 0.11720986 0.12647023 0.1270475\n",
            " 0.12440168 0.11244738 0.10010824 0.10535177 0.10739627 0.10487072\n",
            " 0.11316897 0.11165364 0.11201443 0.10984967 0.10835839 0.10773301\n",
            " 0.10831028 0.10306675 0.09741431 0.09469633 0.09508118 0.0857727\n",
            " 0.08543596 0.08420926 0.07372219 0.07437162 0.09007817 0.08365604\n",
            " 0.07629585 0.07165364 0.07475646 0.06258569 0.07395069 0.07129284\n",
            " 0.07605532 0.0738184  0.08093806 0.08473842 0.08279014 0.07261575\n",
            " 0.0713169  0.07949489 0.07745039 0.07155743 0.07276007 0.07425135\n",
            " 0.07468431 0.07110042 0.07651233 0.07855683 0.08553217 0.08627781\n",
            " 0.09034275 0.09625977 0.10259771 0.09837643 0.10604931 0.10027661\n",
            " 0.10621768 0.10539988 0.10703548 0.10652394 0.10652394 0.1081431\n",
            " 0.10864287 0.10912066 0.10962866 0.11018631 0.1107978  0.11146161\n",
            " 0.11217435 0.11293194 0.11372996 0.11456356]\n",
            "13 day output [[0.11542773]]\n",
            "14 day input [0.07562237 0.09029465 0.09012628 0.09226699 0.08734817 0.0911365\n",
            " 0.09991581 0.09770295 0.10013229 0.11148527 0.10710764 0.10434155\n",
            " 0.1018641  0.09397474 0.09782321 0.08721587 0.09760673 0.10032471\n",
            " 0.09294047 0.09250752 0.09753458 0.0927721  0.08851473 0.09017438\n",
            " 0.10027661 0.11191822 0.11720986 0.12647023 0.1270475  0.12440168\n",
            " 0.11244738 0.10010824 0.10535177 0.10739627 0.10487072 0.11316897\n",
            " 0.11165364 0.11201443 0.10984967 0.10835839 0.10773301 0.10831028\n",
            " 0.10306675 0.09741431 0.09469633 0.09508118 0.0857727  0.08543596\n",
            " 0.08420926 0.07372219 0.07437162 0.09007817 0.08365604 0.07629585\n",
            " 0.07165364 0.07475646 0.06258569 0.07395069 0.07129284 0.07605532\n",
            " 0.0738184  0.08093806 0.08473842 0.08279014 0.07261575 0.0713169\n",
            " 0.07949489 0.07745039 0.07155743 0.07276007 0.07425135 0.07468431\n",
            " 0.07110042 0.07651233 0.07855683 0.08553217 0.08627781 0.09034275\n",
            " 0.09625977 0.10259771 0.09837643 0.10604931 0.10027661 0.10621768\n",
            " 0.10539988 0.10703548 0.10652394 0.10652394 0.1081431  0.10864287\n",
            " 0.10912066 0.10962866 0.11018631 0.1107978  0.11146161 0.11217435\n",
            " 0.11293194 0.11372996 0.11456356 0.11542773]\n",
            "14 day output [[0.11631738]]\n",
            "15 day input [0.09029465 0.09012628 0.09226699 0.08734817 0.0911365  0.09991581\n",
            " 0.09770295 0.10013229 0.11148527 0.10710764 0.10434155 0.1018641\n",
            " 0.09397474 0.09782321 0.08721587 0.09760673 0.10032471 0.09294047\n",
            " 0.09250752 0.09753458 0.0927721  0.08851473 0.09017438 0.10027661\n",
            " 0.11191822 0.11720986 0.12647023 0.1270475  0.12440168 0.11244738\n",
            " 0.10010824 0.10535177 0.10739627 0.10487072 0.11316897 0.11165364\n",
            " 0.11201443 0.10984967 0.10835839 0.10773301 0.10831028 0.10306675\n",
            " 0.09741431 0.09469633 0.09508118 0.0857727  0.08543596 0.08420926\n",
            " 0.07372219 0.07437162 0.09007817 0.08365604 0.07629585 0.07165364\n",
            " 0.07475646 0.06258569 0.07395069 0.07129284 0.07605532 0.0738184\n",
            " 0.08093806 0.08473842 0.08279014 0.07261575 0.0713169  0.07949489\n",
            " 0.07745039 0.07155743 0.07276007 0.07425135 0.07468431 0.07110042\n",
            " 0.07651233 0.07855683 0.08553217 0.08627781 0.09034275 0.09625977\n",
            " 0.10259771 0.09837643 0.10604931 0.10027661 0.10621768 0.10539988\n",
            " 0.10703548 0.10652394 0.10652394 0.1081431  0.10864287 0.10912066\n",
            " 0.10962866 0.11018631 0.1107978  0.11146161 0.11217435 0.11293194\n",
            " 0.11372996 0.11456356 0.11542773 0.11631738]\n",
            "15 day output [[0.11722755]]\n",
            "16 day input [0.09012628 0.09226699 0.08734817 0.0911365  0.09991581 0.09770295\n",
            " 0.10013229 0.11148527 0.10710764 0.10434155 0.1018641  0.09397474\n",
            " 0.09782321 0.08721587 0.09760673 0.10032471 0.09294047 0.09250752\n",
            " 0.09753458 0.0927721  0.08851473 0.09017438 0.10027661 0.11191822\n",
            " 0.11720986 0.12647023 0.1270475  0.12440168 0.11244738 0.10010824\n",
            " 0.10535177 0.10739627 0.10487072 0.11316897 0.11165364 0.11201443\n",
            " 0.10984967 0.10835839 0.10773301 0.10831028 0.10306675 0.09741431\n",
            " 0.09469633 0.09508118 0.0857727  0.08543596 0.08420926 0.07372219\n",
            " 0.07437162 0.09007817 0.08365604 0.07629585 0.07165364 0.07475646\n",
            " 0.06258569 0.07395069 0.07129284 0.07605532 0.0738184  0.08093806\n",
            " 0.08473842 0.08279014 0.07261575 0.0713169  0.07949489 0.07745039\n",
            " 0.07155743 0.07276007 0.07425135 0.07468431 0.07110042 0.07651233\n",
            " 0.07855683 0.08553217 0.08627781 0.09034275 0.09625977 0.10259771\n",
            " 0.09837643 0.10604931 0.10027661 0.10621768 0.10539988 0.10703548\n",
            " 0.10652394 0.10652394 0.1081431  0.10864287 0.10912066 0.10962866\n",
            " 0.11018631 0.1107978  0.11146161 0.11217435 0.11293194 0.11372996\n",
            " 0.11456356 0.11542773 0.11631738 0.11722755]\n",
            "16 day output [[0.11815364]]\n",
            "17 day input [0.09226699 0.08734817 0.0911365  0.09991581 0.09770295 0.10013229\n",
            " 0.11148527 0.10710764 0.10434155 0.1018641  0.09397474 0.09782321\n",
            " 0.08721587 0.09760673 0.10032471 0.09294047 0.09250752 0.09753458\n",
            " 0.0927721  0.08851473 0.09017438 0.10027661 0.11191822 0.11720986\n",
            " 0.12647023 0.1270475  0.12440168 0.11244738 0.10010824 0.10535177\n",
            " 0.10739627 0.10487072 0.11316897 0.11165364 0.11201443 0.10984967\n",
            " 0.10835839 0.10773301 0.10831028 0.10306675 0.09741431 0.09469633\n",
            " 0.09508118 0.0857727  0.08543596 0.08420926 0.07372219 0.07437162\n",
            " 0.09007817 0.08365604 0.07629585 0.07165364 0.07475646 0.06258569\n",
            " 0.07395069 0.07129284 0.07605532 0.0738184  0.08093806 0.08473842\n",
            " 0.08279014 0.07261575 0.0713169  0.07949489 0.07745039 0.07155743\n",
            " 0.07276007 0.07425135 0.07468431 0.07110042 0.07651233 0.07855683\n",
            " 0.08553217 0.08627781 0.09034275 0.09625977 0.10259771 0.09837643\n",
            " 0.10604931 0.10027661 0.10621768 0.10539988 0.10703548 0.10652394\n",
            " 0.10652394 0.1081431  0.10864287 0.10912066 0.10962866 0.11018631\n",
            " 0.1107978  0.11146161 0.11217435 0.11293194 0.11372996 0.11456356\n",
            " 0.11542773 0.11631738 0.11722755 0.11815364]\n",
            "17 day output [[0.11909147]]\n",
            "18 day input [0.08734817 0.0911365  0.09991581 0.09770295 0.10013229 0.11148527\n",
            " 0.10710764 0.10434155 0.1018641  0.09397474 0.09782321 0.08721587\n",
            " 0.09760673 0.10032471 0.09294047 0.09250752 0.09753458 0.0927721\n",
            " 0.08851473 0.09017438 0.10027661 0.11191822 0.11720986 0.12647023\n",
            " 0.1270475  0.12440168 0.11244738 0.10010824 0.10535177 0.10739627\n",
            " 0.10487072 0.11316897 0.11165364 0.11201443 0.10984967 0.10835839\n",
            " 0.10773301 0.10831028 0.10306675 0.09741431 0.09469633 0.09508118\n",
            " 0.0857727  0.08543596 0.08420926 0.07372219 0.07437162 0.09007817\n",
            " 0.08365604 0.07629585 0.07165364 0.07475646 0.06258569 0.07395069\n",
            " 0.07129284 0.07605532 0.0738184  0.08093806 0.08473842 0.08279014\n",
            " 0.07261575 0.0713169  0.07949489 0.07745039 0.07155743 0.07276007\n",
            " 0.07425135 0.07468431 0.07110042 0.07651233 0.07855683 0.08553217\n",
            " 0.08627781 0.09034275 0.09625977 0.10259771 0.09837643 0.10604931\n",
            " 0.10027661 0.10621768 0.10539988 0.10703548 0.10652394 0.10652394\n",
            " 0.1081431  0.10864287 0.10912066 0.10962866 0.11018631 0.1107978\n",
            " 0.11146161 0.11217435 0.11293194 0.11372996 0.11456356 0.11542773\n",
            " 0.11631738 0.11722755 0.11815364 0.11909147]\n",
            "18 day output [[0.1200375]]\n",
            "19 day input [0.0911365  0.09991581 0.09770295 0.10013229 0.11148527 0.10710764\n",
            " 0.10434155 0.1018641  0.09397474 0.09782321 0.08721587 0.09760673\n",
            " 0.10032471 0.09294047 0.09250752 0.09753458 0.0927721  0.08851473\n",
            " 0.09017438 0.10027661 0.11191822 0.11720986 0.12647023 0.1270475\n",
            " 0.12440168 0.11244738 0.10010824 0.10535177 0.10739627 0.10487072\n",
            " 0.11316897 0.11165364 0.11201443 0.10984967 0.10835839 0.10773301\n",
            " 0.10831028 0.10306675 0.09741431 0.09469633 0.09508118 0.0857727\n",
            " 0.08543596 0.08420926 0.07372219 0.07437162 0.09007817 0.08365604\n",
            " 0.07629585 0.07165364 0.07475646 0.06258569 0.07395069 0.07129284\n",
            " 0.07605532 0.0738184  0.08093806 0.08473842 0.08279014 0.07261575\n",
            " 0.0713169  0.07949489 0.07745039 0.07155743 0.07276007 0.07425135\n",
            " 0.07468431 0.07110042 0.07651233 0.07855683 0.08553217 0.08627781\n",
            " 0.09034275 0.09625977 0.10259771 0.09837643 0.10604931 0.10027661\n",
            " 0.10621768 0.10539988 0.10703548 0.10652394 0.10652394 0.1081431\n",
            " 0.10864287 0.10912066 0.10962866 0.11018631 0.1107978  0.11146161\n",
            " 0.11217435 0.11293194 0.11372996 0.11456356 0.11542773 0.11631738\n",
            " 0.11722755 0.11815364 0.11909147 0.1200375 ]\n",
            "19 day output [[0.12098881]]\n",
            "20 day input [0.09991581 0.09770295 0.10013229 0.11148527 0.10710764 0.10434155\n",
            " 0.1018641  0.09397474 0.09782321 0.08721587 0.09760673 0.10032471\n",
            " 0.09294047 0.09250752 0.09753458 0.0927721  0.08851473 0.09017438\n",
            " 0.10027661 0.11191822 0.11720986 0.12647023 0.1270475  0.12440168\n",
            " 0.11244738 0.10010824 0.10535177 0.10739627 0.10487072 0.11316897\n",
            " 0.11165364 0.11201443 0.10984967 0.10835839 0.10773301 0.10831028\n",
            " 0.10306675 0.09741431 0.09469633 0.09508118 0.0857727  0.08543596\n",
            " 0.08420926 0.07372219 0.07437162 0.09007817 0.08365604 0.07629585\n",
            " 0.07165364 0.07475646 0.06258569 0.07395069 0.07129284 0.07605532\n",
            " 0.0738184  0.08093806 0.08473842 0.08279014 0.07261575 0.0713169\n",
            " 0.07949489 0.07745039 0.07155743 0.07276007 0.07425135 0.07468431\n",
            " 0.07110042 0.07651233 0.07855683 0.08553217 0.08627781 0.09034275\n",
            " 0.09625977 0.10259771 0.09837643 0.10604931 0.10027661 0.10621768\n",
            " 0.10539988 0.10703548 0.10652394 0.10652394 0.1081431  0.10864287\n",
            " 0.10912066 0.10962866 0.11018631 0.1107978  0.11146161 0.11217435\n",
            " 0.11293194 0.11372996 0.11456356 0.11542773 0.11631738 0.11722755\n",
            " 0.11815364 0.11909147 0.1200375  0.12098881]\n",
            "20 day output [[0.12194308]]\n",
            "21 day input [0.09770295 0.10013229 0.11148527 0.10710764 0.10434155 0.1018641\n",
            " 0.09397474 0.09782321 0.08721587 0.09760673 0.10032471 0.09294047\n",
            " 0.09250752 0.09753458 0.0927721  0.08851473 0.09017438 0.10027661\n",
            " 0.11191822 0.11720986 0.12647023 0.1270475  0.12440168 0.11244738\n",
            " 0.10010824 0.10535177 0.10739627 0.10487072 0.11316897 0.11165364\n",
            " 0.11201443 0.10984967 0.10835839 0.10773301 0.10831028 0.10306675\n",
            " 0.09741431 0.09469633 0.09508118 0.0857727  0.08543596 0.08420926\n",
            " 0.07372219 0.07437162 0.09007817 0.08365604 0.07629585 0.07165364\n",
            " 0.07475646 0.06258569 0.07395069 0.07129284 0.07605532 0.0738184\n",
            " 0.08093806 0.08473842 0.08279014 0.07261575 0.0713169  0.07949489\n",
            " 0.07745039 0.07155743 0.07276007 0.07425135 0.07468431 0.07110042\n",
            " 0.07651233 0.07855683 0.08553217 0.08627781 0.09034275 0.09625977\n",
            " 0.10259771 0.09837643 0.10604931 0.10027661 0.10621768 0.10539988\n",
            " 0.10703548 0.10652394 0.10652394 0.1081431  0.10864287 0.10912066\n",
            " 0.10962866 0.11018631 0.1107978  0.11146161 0.11217435 0.11293194\n",
            " 0.11372996 0.11456356 0.11542773 0.11631738 0.11722755 0.11815364\n",
            " 0.11909147 0.1200375  0.12098881 0.12194308]\n",
            "21 day output [[0.1228986]]\n",
            "22 day input [0.10013229 0.11148527 0.10710764 0.10434155 0.1018641  0.09397474\n",
            " 0.09782321 0.08721587 0.09760673 0.10032471 0.09294047 0.09250752\n",
            " 0.09753458 0.0927721  0.08851473 0.09017438 0.10027661 0.11191822\n",
            " 0.11720986 0.12647023 0.1270475  0.12440168 0.11244738 0.10010824\n",
            " 0.10535177 0.10739627 0.10487072 0.11316897 0.11165364 0.11201443\n",
            " 0.10984967 0.10835839 0.10773301 0.10831028 0.10306675 0.09741431\n",
            " 0.09469633 0.09508118 0.0857727  0.08543596 0.08420926 0.07372219\n",
            " 0.07437162 0.09007817 0.08365604 0.07629585 0.07165364 0.07475646\n",
            " 0.06258569 0.07395069 0.07129284 0.07605532 0.0738184  0.08093806\n",
            " 0.08473842 0.08279014 0.07261575 0.0713169  0.07949489 0.07745039\n",
            " 0.07155743 0.07276007 0.07425135 0.07468431 0.07110042 0.07651233\n",
            " 0.07855683 0.08553217 0.08627781 0.09034275 0.09625977 0.10259771\n",
            " 0.09837643 0.10604931 0.10027661 0.10621768 0.10539988 0.10703548\n",
            " 0.10652394 0.10652394 0.1081431  0.10864287 0.10912066 0.10962866\n",
            " 0.11018631 0.1107978  0.11146161 0.11217435 0.11293194 0.11372996\n",
            " 0.11456356 0.11542773 0.11631738 0.11722755 0.11815364 0.11909147\n",
            " 0.1200375  0.12098881 0.12194308 0.1228986 ]\n",
            "22 day output [[0.12385421]]\n",
            "23 day input [0.11148527 0.10710764 0.10434155 0.1018641  0.09397474 0.09782321\n",
            " 0.08721587 0.09760673 0.10032471 0.09294047 0.09250752 0.09753458\n",
            " 0.0927721  0.08851473 0.09017438 0.10027661 0.11191822 0.11720986\n",
            " 0.12647023 0.1270475  0.12440168 0.11244738 0.10010824 0.10535177\n",
            " 0.10739627 0.10487072 0.11316897 0.11165364 0.11201443 0.10984967\n",
            " 0.10835839 0.10773301 0.10831028 0.10306675 0.09741431 0.09469633\n",
            " 0.09508118 0.0857727  0.08543596 0.08420926 0.07372219 0.07437162\n",
            " 0.09007817 0.08365604 0.07629585 0.07165364 0.07475646 0.06258569\n",
            " 0.07395069 0.07129284 0.07605532 0.0738184  0.08093806 0.08473842\n",
            " 0.08279014 0.07261575 0.0713169  0.07949489 0.07745039 0.07155743\n",
            " 0.07276007 0.07425135 0.07468431 0.07110042 0.07651233 0.07855683\n",
            " 0.08553217 0.08627781 0.09034275 0.09625977 0.10259771 0.09837643\n",
            " 0.10604931 0.10027661 0.10621768 0.10539988 0.10703548 0.10652394\n",
            " 0.10652394 0.1081431  0.10864287 0.10912066 0.10962866 0.11018631\n",
            " 0.1107978  0.11146161 0.11217435 0.11293194 0.11372996 0.11456356\n",
            " 0.11542773 0.11631738 0.11722755 0.11815364 0.11909147 0.1200375\n",
            " 0.12098881 0.12194308 0.1228986  0.12385421]\n",
            "23 day output [[0.12480914]]\n",
            "24 day input [0.10710764 0.10434155 0.1018641  0.09397474 0.09782321 0.08721587\n",
            " 0.09760673 0.10032471 0.09294047 0.09250752 0.09753458 0.0927721\n",
            " 0.08851473 0.09017438 0.10027661 0.11191822 0.11720986 0.12647023\n",
            " 0.1270475  0.12440168 0.11244738 0.10010824 0.10535177 0.10739627\n",
            " 0.10487072 0.11316897 0.11165364 0.11201443 0.10984967 0.10835839\n",
            " 0.10773301 0.10831028 0.10306675 0.09741431 0.09469633 0.09508118\n",
            " 0.0857727  0.08543596 0.08420926 0.07372219 0.07437162 0.09007817\n",
            " 0.08365604 0.07629585 0.07165364 0.07475646 0.06258569 0.07395069\n",
            " 0.07129284 0.07605532 0.0738184  0.08093806 0.08473842 0.08279014\n",
            " 0.07261575 0.0713169  0.07949489 0.07745039 0.07155743 0.07276007\n",
            " 0.07425135 0.07468431 0.07110042 0.07651233 0.07855683 0.08553217\n",
            " 0.08627781 0.09034275 0.09625977 0.10259771 0.09837643 0.10604931\n",
            " 0.10027661 0.10621768 0.10539988 0.10703548 0.10652394 0.10652394\n",
            " 0.1081431  0.10864287 0.10912066 0.10962866 0.11018631 0.1107978\n",
            " 0.11146161 0.11217435 0.11293194 0.11372996 0.11456356 0.11542773\n",
            " 0.11631738 0.11722755 0.11815364 0.11909147 0.1200375  0.12098881\n",
            " 0.12194308 0.1228986  0.12385421 0.12480914]\n",
            "24 day output [[0.1257631]]\n",
            "25 day input [0.10434155 0.1018641  0.09397474 0.09782321 0.08721587 0.09760673\n",
            " 0.10032471 0.09294047 0.09250752 0.09753458 0.0927721  0.08851473\n",
            " 0.09017438 0.10027661 0.11191822 0.11720986 0.12647023 0.1270475\n",
            " 0.12440168 0.11244738 0.10010824 0.10535177 0.10739627 0.10487072\n",
            " 0.11316897 0.11165364 0.11201443 0.10984967 0.10835839 0.10773301\n",
            " 0.10831028 0.10306675 0.09741431 0.09469633 0.09508118 0.0857727\n",
            " 0.08543596 0.08420926 0.07372219 0.07437162 0.09007817 0.08365604\n",
            " 0.07629585 0.07165364 0.07475646 0.06258569 0.07395069 0.07129284\n",
            " 0.07605532 0.0738184  0.08093806 0.08473842 0.08279014 0.07261575\n",
            " 0.0713169  0.07949489 0.07745039 0.07155743 0.07276007 0.07425135\n",
            " 0.07468431 0.07110042 0.07651233 0.07855683 0.08553217 0.08627781\n",
            " 0.09034275 0.09625977 0.10259771 0.09837643 0.10604931 0.10027661\n",
            " 0.10621768 0.10539988 0.10703548 0.10652394 0.10652394 0.1081431\n",
            " 0.10864287 0.10912066 0.10962866 0.11018631 0.1107978  0.11146161\n",
            " 0.11217435 0.11293194 0.11372996 0.11456356 0.11542773 0.11631738\n",
            " 0.11722755 0.11815364 0.11909147 0.1200375  0.12098881 0.12194308\n",
            " 0.1228986  0.12385421 0.12480914 0.1257631 ]\n",
            "25 day output [[0.12671605]]\n",
            "26 day input [0.1018641  0.09397474 0.09782321 0.08721587 0.09760673 0.10032471\n",
            " 0.09294047 0.09250752 0.09753458 0.0927721  0.08851473 0.09017438\n",
            " 0.10027661 0.11191822 0.11720986 0.12647023 0.1270475  0.12440168\n",
            " 0.11244738 0.10010824 0.10535177 0.10739627 0.10487072 0.11316897\n",
            " 0.11165364 0.11201443 0.10984967 0.10835839 0.10773301 0.10831028\n",
            " 0.10306675 0.09741431 0.09469633 0.09508118 0.0857727  0.08543596\n",
            " 0.08420926 0.07372219 0.07437162 0.09007817 0.08365604 0.07629585\n",
            " 0.07165364 0.07475646 0.06258569 0.07395069 0.07129284 0.07605532\n",
            " 0.0738184  0.08093806 0.08473842 0.08279014 0.07261575 0.0713169\n",
            " 0.07949489 0.07745039 0.07155743 0.07276007 0.07425135 0.07468431\n",
            " 0.07110042 0.07651233 0.07855683 0.08553217 0.08627781 0.09034275\n",
            " 0.09625977 0.10259771 0.09837643 0.10604931 0.10027661 0.10621768\n",
            " 0.10539988 0.10703548 0.10652394 0.10652394 0.1081431  0.10864287\n",
            " 0.10912066 0.10962866 0.11018631 0.1107978  0.11146161 0.11217435\n",
            " 0.11293194 0.11372996 0.11456356 0.11542773 0.11631738 0.11722755\n",
            " 0.11815364 0.11909147 0.1200375  0.12098881 0.12194308 0.1228986\n",
            " 0.12385421 0.12480914 0.1257631  0.12671605]\n",
            "26 day output [[0.12766825]]\n",
            "27 day input [0.09397474 0.09782321 0.08721587 0.09760673 0.10032471 0.09294047\n",
            " 0.09250752 0.09753458 0.0927721  0.08851473 0.09017438 0.10027661\n",
            " 0.11191822 0.11720986 0.12647023 0.1270475  0.12440168 0.11244738\n",
            " 0.10010824 0.10535177 0.10739627 0.10487072 0.11316897 0.11165364\n",
            " 0.11201443 0.10984967 0.10835839 0.10773301 0.10831028 0.10306675\n",
            " 0.09741431 0.09469633 0.09508118 0.0857727  0.08543596 0.08420926\n",
            " 0.07372219 0.07437162 0.09007817 0.08365604 0.07629585 0.07165364\n",
            " 0.07475646 0.06258569 0.07395069 0.07129284 0.07605532 0.0738184\n",
            " 0.08093806 0.08473842 0.08279014 0.07261575 0.0713169  0.07949489\n",
            " 0.07745039 0.07155743 0.07276007 0.07425135 0.07468431 0.07110042\n",
            " 0.07651233 0.07855683 0.08553217 0.08627781 0.09034275 0.09625977\n",
            " 0.10259771 0.09837643 0.10604931 0.10027661 0.10621768 0.10539988\n",
            " 0.10703548 0.10652394 0.10652394 0.1081431  0.10864287 0.10912066\n",
            " 0.10962866 0.11018631 0.1107978  0.11146161 0.11217435 0.11293194\n",
            " 0.11372996 0.11456356 0.11542773 0.11631738 0.11722755 0.11815364\n",
            " 0.11909147 0.1200375  0.12098881 0.12194308 0.1228986  0.12385421\n",
            " 0.12480914 0.1257631  0.12671605 0.12766825]\n",
            "27 day output [[0.12862009]]\n",
            "28 day input [0.09782321 0.08721587 0.09760673 0.10032471 0.09294047 0.09250752\n",
            " 0.09753458 0.0927721  0.08851473 0.09017438 0.10027661 0.11191822\n",
            " 0.11720986 0.12647023 0.1270475  0.12440168 0.11244738 0.10010824\n",
            " 0.10535177 0.10739627 0.10487072 0.11316897 0.11165364 0.11201443\n",
            " 0.10984967 0.10835839 0.10773301 0.10831028 0.10306675 0.09741431\n",
            " 0.09469633 0.09508118 0.0857727  0.08543596 0.08420926 0.07372219\n",
            " 0.07437162 0.09007817 0.08365604 0.07629585 0.07165364 0.07475646\n",
            " 0.06258569 0.07395069 0.07129284 0.07605532 0.0738184  0.08093806\n",
            " 0.08473842 0.08279014 0.07261575 0.0713169  0.07949489 0.07745039\n",
            " 0.07155743 0.07276007 0.07425135 0.07468431 0.07110042 0.07651233\n",
            " 0.07855683 0.08553217 0.08627781 0.09034275 0.09625977 0.10259771\n",
            " 0.09837643 0.10604931 0.10027661 0.10621768 0.10539988 0.10703548\n",
            " 0.10652394 0.10652394 0.1081431  0.10864287 0.10912066 0.10962866\n",
            " 0.11018631 0.1107978  0.11146161 0.11217435 0.11293194 0.11372996\n",
            " 0.11456356 0.11542773 0.11631738 0.11722755 0.11815364 0.11909147\n",
            " 0.1200375  0.12098881 0.12194308 0.1228986  0.12385421 0.12480914\n",
            " 0.1257631  0.12671605 0.12766825 0.12862009]\n",
            "28 day output [[0.12957208]]\n",
            "29 day input [0.08721587 0.09760673 0.10032471 0.09294047 0.09250752 0.09753458\n",
            " 0.0927721  0.08851473 0.09017438 0.10027661 0.11191822 0.11720986\n",
            " 0.12647023 0.1270475  0.12440168 0.11244738 0.10010824 0.10535177\n",
            " 0.10739627 0.10487072 0.11316897 0.11165364 0.11201443 0.10984967\n",
            " 0.10835839 0.10773301 0.10831028 0.10306675 0.09741431 0.09469633\n",
            " 0.09508118 0.0857727  0.08543596 0.08420926 0.07372219 0.07437162\n",
            " 0.09007817 0.08365604 0.07629585 0.07165364 0.07475646 0.06258569\n",
            " 0.07395069 0.07129284 0.07605532 0.0738184  0.08093806 0.08473842\n",
            " 0.08279014 0.07261575 0.0713169  0.07949489 0.07745039 0.07155743\n",
            " 0.07276007 0.07425135 0.07468431 0.07110042 0.07651233 0.07855683\n",
            " 0.08553217 0.08627781 0.09034275 0.09625977 0.10259771 0.09837643\n",
            " 0.10604931 0.10027661 0.10621768 0.10539988 0.10703548 0.10652394\n",
            " 0.10652394 0.1081431  0.10864287 0.10912066 0.10962866 0.11018631\n",
            " 0.1107978  0.11146161 0.11217435 0.11293194 0.11372996 0.11456356\n",
            " 0.11542773 0.11631738 0.11722755 0.11815364 0.11909147 0.1200375\n",
            " 0.12098881 0.12194308 0.1228986  0.12385421 0.12480914 0.1257631\n",
            " 0.12671605 0.12766825 0.12862009 0.12957208]\n",
            "29 day output [[0.13052478]]\n",
            "[[0.10652393847703934], [0.10652393847703934], [0.10814309865236282], [0.10864286869764328], [0.10912065953016281], [0.10962866246700287], [0.11018630862236023], [0.11079780012369156], [0.11146160960197449], [0.11217434704303741], [0.11293194442987442], [0.11372996121644974], [0.11456356197595596], [0.11542773246765137], [0.11631737649440765], [0.11722755432128906], [0.1181536391377449], [0.1190914660692215], [0.1200375035405159], [0.12098880857229233], [0.12194307893514633], [0.12289860099554062], [0.12385421246290207], [0.1248091384768486], [0.12576310336589813], [0.12671604752540588], [0.12766824662685394], [0.12862008810043335], [0.1295720785856247], [0.13052478432655334]]\n"
          ],
          "name": "stdout"
        }
      ]
    },
    {
      "cell_type": "code",
      "metadata": {
        "id": "aCW4VbWnw5c5"
      },
      "source": [
        "day_new=np.arange(1,101)\n",
        "day_pred=np.arange(101,131)"
      ],
      "execution_count": 144,
      "outputs": []
    },
    {
      "cell_type": "code",
      "metadata": {
        "id": "EextHNFzw_1E"
      },
      "source": [
        "import matplotlib.pyplot as plt"
      ],
      "execution_count": 145,
      "outputs": []
    },
    {
      "cell_type": "code",
      "metadata": {
        "id": "AIEtUcPnxDsK",
        "colab": {
          "base_uri": "https://localhost:8080/"
        },
        "outputId": "f689f5c8-6ee8-4db9-cc56-11094673389f"
      },
      "source": [
        "len(df1)"
      ],
      "execution_count": 146,
      "outputs": [
        {
          "output_type": "execute_result",
          "data": {
            "text/plain": [
              "1257"
            ]
          },
          "metadata": {
            "tags": []
          },
          "execution_count": 146
        }
      ]
    },
    {
      "cell_type": "code",
      "metadata": {
        "id": "NWK0UcVHxUIy"
      },
      "source": [
        "df3=df1.tolist()\n",
        "df3.extend(lst_output)"
      ],
      "execution_count": 147,
      "outputs": []
    },
    {
      "cell_type": "code",
      "metadata": {
        "id": "eCBiY2MZxUV0",
        "colab": {
          "base_uri": "https://localhost:8080/",
          "height": 283
        },
        "outputId": "58f22f9f-6505-48af-8e89-72a332ba515d"
      },
      "source": [
        "plt.plot(day_new,scaler.inverse_transform(df1[1157:]))\n",
        "plt.plot(day_pred,scaler.inverse_transform(lst_output))"
      ],
      "execution_count": 150,
      "outputs": [
        {
          "output_type": "execute_result",
          "data": {
            "text/plain": [
              "[<matplotlib.lines.Line2D at 0x7f775e3a6f10>]"
            ]
          },
          "metadata": {
            "tags": []
          },
          "execution_count": 150
        },
        {
          "output_type": "display_data",
          "data": {
            "image/png": "[encoded data removed]",
            "text/plain": [
              "<Figure size 432x288 with 1 Axes>"
            ]
          },
          "metadata": {
            "tags": [],
            "needs_background": "light"
          }
        }
      ]
    },
    {
      "cell_type": "code",
      "metadata": {
        "id": "pE83d0Zt0GzR",
        "colab": {
          "base_uri": "https://localhost:8080/",
          "height": 283
        },
        "outputId": "cc0a6532-5c5a-4e63-e668-c1356ddc43a9"
      },
      "source": [
        "df3=df1.tolist()\n",
        "df3.extend(lst_output)\n",
        "plt.plot(df3[1200:])"
      ],
      "execution_count": 151,
      "outputs": [
        {
          "output_type": "execute_result",
          "data": {
            "text/plain": [
              "[<matplotlib.lines.Line2D at 0x7f775e116590>]"
            ]
          },
          "metadata": {
            "tags": []
          },
          "execution_count": 151
        },
        {
          "output_type": "display_data",
          "data": {
            "image/png": "[encoded data removed]",
            "text/plain": [
              "<Figure size 432x288 with 1 Axes>"
            ]
          },
          "metadata": {
            "tags": [],
            "needs_background": "light"
          }
        }
      ]
    },
    {
      "cell_type": "code",
      "metadata": {
        "id": "eKapi-Wc0OHW"
      },
      "source": [
        "df3=scaler.inverse_transform(df3).tolist()"
      ],
      "execution_count": 153,
      "outputs": []
    },
    {
      "cell_type": "code",
      "metadata": {
        "id": "vQYSMXVo0RiP",
        "colab": {
          "base_uri": "https://localhost:8080/",
          "height": 283
        },
        "outputId": "9cd84d43-2132-4c10-84f3-803d8a85cca6"
      },
      "source": [
        "plt.plot(df3)"
      ],
      "execution_count": 154,
      "outputs": [
        {
          "output_type": "execute_result",
          "data": {
            "text/plain": [
              "[<matplotlib.lines.Line2D at 0x7f775e0fc950>]"
            ]
          },
          "metadata": {
            "tags": []
          },
          "execution_count": 154
        },
        {
          "output_type": "display_data",
          "data": {
            "image/png": "[encoded data removed]",
            "text/plain": [
              "<Figure size 432x288 with 1 Axes>"
            ]
          },
          "metadata": {
            "tags": [],
            "needs_background": "light"
          }
        }
      ]
    },
    {
      "cell_type": "code",
      "metadata": {
        "id": "ArdZQSmhTy6E",
        "colab": {
          "base_uri": "https://localhost:8080/",
          "height": 368
        },
        "outputId": "b6bf1b4f-7262-4c6e-abb1-ced882c440d7"
      },
      "source": [
        "from vega_datasets import data\n",
        "stocks = data.stocks()\n",
        "\n",
        "import altair as alt\n",
        "alt.Chart(stocks).mark_line().encode(\n",
        "  x='date:T',\n",
        "  y='price',\n",
        "  color='symbol'\n",
        ").interactive(bind_y=False)"
      ],
      "execution_count": 155,
      "outputs": [
        {
          "output_type": "execute_result",
          "data": {
            "text/plain": [
              "alt.Chart(...)"
            ],
            "text/html": [
              "\n",
              "<div id=\"altair-viz-578c01dd846c42e3af389c997238d293\"></div>\n",
              "<script type=\"text/javascript\">\n",
              "  (function(spec, embedOpt){\n",
              "    let outputDiv = document.currentScript.previousElementSibling;\n",
              "    if (outputDiv.id !== \"altair-viz-578c01dd846c42e3af389c997238d293\") {\n",
              "      outputDiv = document.getElementById(\"altair-viz-578c01dd846c42e3af389c997238d293\");\n",
              "    }\n",
              "    const paths = {\n",
              "      \"vega\": \"https://cdn.jsdelivr.net/npm//vega@5?noext\",\n",
              "      \"vega-lib\": \"https://cdn.jsdelivr.net/npm//vega-lib?noext\",\n",
              "      \"vega-lite\": \"https://cdn.jsdelivr.net/npm//vega-lite@4.8.1?noext\",\n",
              "      \"vega-embed\": \"https://cdn.jsdelivr.net/npm//vega-embed@6?noext\",\n",
              "    };\n",
              "\n",
              "    function loadScript(lib) {\n",
              "      return new Promise(function(resolve, reject) {\n",
              "        var s = document.createElement('script');\n",
              "        s.src = paths[lib];\n",
              "        s.async = true;\n",
              "        s.onload = () => resolve(paths[lib]);\n",
              "        s.onerror = () => reject(`Error loading script: ${paths[lib]}`);\n",
              "        document.getElementsByTagName(\"head\")[0].appendChild(s);\n",
              "      });\n",
              "    }\n",
              "\n",
              "    function showError(err) {\n",
              "      outputDiv.innerHTML = `<div class=\"error\" style=\"color:red;\">${err}</div>`;\n",
              "      throw err;\n",
              "    }\n",
              "\n",
              "    function displayChart(vegaEmbed) {\n",
              "      vegaEmbed(outputDiv, spec, embedOpt)\n",
              "        .catch(err => showError(`Javascript Error: ${err.message}<br>This usually means there's a typo in your chart specification. See the javascript console for the full traceback.`));\n",
              "    }\n",
              "\n",
              "    if(typeof define === \"function\" && define.amd) {\n",
              "      requirejs.config({paths});\n",
              "      require([\"vega-embed\"], displayChart, err => showError(`Error loading script: ${err.message}`));\n",
              "    } else if (typeof vegaEmbed === \"function\") {\n",
              "      displayChart(vegaEmbed);\n",
              "    } else {\n",
              "      loadScript(\"vega\")\n",
              "        .then(() => loadScript(\"vega-lite\"))\n",
              "        .then(() => loadScript(\"vega-embed\"))\n",
              "        .catch(showError)\n",
              "        .then(() => displayChart(vegaEmbed));\n",
              "    }\n",
              "  })({\"config\": {\"view\": {\"continuousWidth\": 400, \"continuousHeight\": 300}}, \"data\": {\"name\": \"data-96e857a61c6b623bafe23440d582a500\"}, \"mark\": \"line\", \"encoding\": {\"color\": {\"type\": \"nominal\", \"field\": \"symbol\"}, \"x\": {\"type\": \"temporal\", \"field\": \"date\"}, \"y\": {\"type\": \"quantitative\", \"field\": \"price\"}}, \"selection\": {\"selector001\": {\"type\": \"interval\", \"bind\": \"scales\", \"encodings\": [\"x\"]}}, \"$schema\": \"https://vega.github.io/schema/vega-lite/v4.8.1.json\", \"datasets\": {\"data-96e857a61c6b623bafe23440d582a500\": [{\"symbol\": \"MSFT\", \"date\": \"2000-01-01T00:00:00\", \"price\": 39.81}, {\"symbol\": \"MSFT\", \"date\": \"2000-02-01T00:00:00\", \"price\": 36.35}, {\"symbol\": \"MSFT\", \"date\": \"2000-03-01T00:00:00\", \"price\": 43.22}, {\"symbol\": \"MSFT\", \"date\": \"2000-04-01T00:00:00\", \"price\": 28.37}, {\"symbol\": \"MSFT\", \"date\": \"2000-05-01T00:00:00\", \"price\": 25.45}, {\"symbol\": \"MSFT\", \"date\": \"2000-06-01T00:00:00\", \"price\": 32.54}, {\"symbol\": \"MSFT\", \"date\": \"2000-07-01T00:00:00\", \"price\": 28.4}, {\"symbol\": \"MSFT\", \"date\": \"2000-08-01T00:00:00\", \"price\": 28.4}, {\"symbol\": \"MSFT\", \"date\": \"2000-09-01T00:00:00\", \"price\": 24.53}, {\"symbol\": \"MSFT\", \"date\": \"2000-10-01T00:00:00\", \"price\": 28.02}, {\"symbol\": \"MSFT\", \"date\": \"2000-11-01T00:00:00\", \"price\": 23.34}, {\"symbol\": \"MSFT\", \"date\": \"2000-12-01T00:00:00\", \"price\": 17.65}, {\"symbol\": \"MSFT\", \"date\": \"2001-01-01T00:00:00\", \"price\": 24.84}, {\"symbol\": \"MSFT\", \"date\": \"2001-02-01T00:00:00\", \"price\": 24.0}, {\"symbol\": \"MSFT\", \"date\": \"2001-03-01T00:00:00\", \"price\": 22.25}, {\"symbol\": \"MSFT\", \"date\": \"2001-04-01T00:00:00\", \"price\": 27.56}, {\"symbol\": \"MSFT\", \"date\": \"2001-05-01T00:00:00\", \"price\": 28.14}, {\"symbol\": \"MSFT\", \"date\": \"2001-06-01T00:00:00\", \"price\": 29.7}, {\"symbol\": \"MSFT\", \"date\": \"2001-07-01T00:00:00\", \"price\": 26.93}, {\"symbol\": \"MSFT\", \"date\": \"2001-08-01T00:00:00\", \"price\": 23.21}, {\"symbol\": \"MSFT\", \"date\": \"2001-09-01T00:00:00\", \"price\": 20.82}, {\"symbol\": \"MSFT\", \"date\": \"2001-10-01T00:00:00\", \"price\": 23.65}, {\"symbol\": \"MSFT\", \"date\": \"2001-11-01T00:00:00\", \"price\": 26.12}, {\"symbol\": \"MSFT\", \"date\": \"2001-12-01T00:00:00\", \"price\": 26.95}, {\"symbol\": \"MSFT\", \"date\": \"2002-01-01T00:00:00\", \"price\": 25.92}, {\"symbol\": \"MSFT\", \"date\": \"2002-02-01T00:00:00\", \"price\": 23.73}, {\"symbol\": \"MSFT\", \"date\": \"2002-03-01T00:00:00\", \"price\": 24.53}, {\"symbol\": \"MSFT\", \"date\": \"2002-04-01T00:00:00\", \"price\": 21.26}, {\"symbol\": \"MSFT\", \"date\": \"2002-05-01T00:00:00\", \"price\": 20.71}, {\"symbol\": \"MSFT\", \"date\": \"2002-06-01T00:00:00\", \"price\": 22.25}, {\"symbol\": \"MSFT\", \"date\": \"2002-07-01T00:00:00\", \"price\": 19.52}, {\"symbol\": \"MSFT\", \"date\": \"2002-08-01T00:00:00\", \"price\": 19.97}, {\"symbol\": \"MSFT\", \"date\": \"2002-09-01T00:00:00\", \"price\": 17.79}, {\"symbol\": \"MSFT\", \"date\": \"2002-10-01T00:00:00\", \"price\": 21.75}, {\"symbol\": \"MSFT\", \"date\": \"2002-11-01T00:00:00\", \"price\": 23.46}, {\"symbol\": \"MSFT\", \"date\": \"2002-12-01T00:00:00\", \"price\": 21.03}, {\"symbol\": \"MSFT\", \"date\": \"2003-01-01T00:00:00\", \"price\": 19.31}, {\"symbol\": \"MSFT\", \"date\": \"2003-02-01T00:00:00\", \"price\": 19.34}, {\"symbol\": \"MSFT\", \"date\": \"2003-03-01T00:00:00\", \"price\": 19.76}, {\"symbol\": \"MSFT\", \"date\": \"2003-04-01T00:00:00\", \"price\": 20.87}, {\"symbol\": \"MSFT\", \"date\": \"2003-05-01T00:00:00\", \"price\": 20.09}, {\"symbol\": \"MSFT\", \"date\": \"2003-06-01T00:00:00\", \"price\": 20.93}, {\"symbol\": \"MSFT\", \"date\": \"2003-07-01T00:00:00\", \"price\": 21.56}, {\"symbol\": \"MSFT\", \"date\": \"2003-08-01T00:00:00\", \"price\": 21.65}, {\"symbol\": \"MSFT\", \"date\": \"2003-09-01T00:00:00\", \"price\": 22.69}, {\"symbol\": \"MSFT\", \"date\": \"2003-10-01T00:00:00\", \"price\": 21.45}, {\"symbol\": \"MSFT\", \"date\": \"2003-11-01T00:00:00\", \"price\": 21.1}, {\"symbol\": \"MSFT\", \"date\": \"2003-12-01T00:00:00\", \"price\": 22.46}, {\"symbol\": \"MSFT\", \"date\": \"2004-01-01T00:00:00\", \"price\": 22.69}, {\"symbol\": \"MSFT\", \"date\": \"2004-02-01T00:00:00\", \"price\": 21.77}, {\"symbol\": \"MSFT\", \"date\": \"2004-03-01T00:00:00\", \"price\": 20.46}, {\"symbol\": \"MSFT\", \"date\": \"2004-04-01T00:00:00\", \"price\": 21.45}, {\"symbol\": \"MSFT\", \"date\": \"2004-05-01T00:00:00\", \"price\": 21.53}, {\"symbol\": \"MSFT\", \"date\": \"2004-06-01T00:00:00\", \"price\": 23.44}, {\"symbol\": \"MSFT\", \"date\": \"2004-07-01T00:00:00\", \"price\": 23.38}, {\"symbol\": \"MSFT\", \"date\": \"2004-08-01T00:00:00\", \"price\": 22.47}, {\"symbol\": \"MSFT\", \"date\": \"2004-09-01T00:00:00\", \"price\": 22.76}, {\"symbol\": \"MSFT\", \"date\": \"2004-10-01T00:00:00\", \"price\": 23.02}, {\"symbol\": \"MSFT\", \"date\": \"2004-11-01T00:00:00\", \"price\": 24.6}, {\"symbol\": \"MSFT\", \"date\": \"2004-12-01T00:00:00\", \"price\": 24.52}, {\"symbol\": \"MSFT\", \"date\": \"2005-01-01T00:00:00\", \"price\": 24.11}, {\"symbol\": \"MSFT\", \"date\": \"2005-02-01T00:00:00\", \"price\": 23.15}, {\"symbol\": \"MSFT\", \"date\": \"2005-03-01T00:00:00\", \"price\": 22.24}, {\"symbol\": \"MSFT\", \"date\": \"2005-04-01T00:00:00\", \"price\": 23.28}, {\"symbol\": \"MSFT\", \"date\": \"2005-05-01T00:00:00\", \"price\": 23.82}, {\"symbol\": \"MSFT\", \"date\": \"2005-06-01T00:00:00\", \"price\": 22.93}, {\"symbol\": \"MSFT\", \"date\": \"2005-07-01T00:00:00\", \"price\": 23.64}, {\"symbol\": \"MSFT\", \"date\": \"2005-08-01T00:00:00\", \"price\": 25.35}, {\"symbol\": \"MSFT\", \"date\": \"2005-09-01T00:00:00\", \"price\": 23.83}, {\"symbol\": \"MSFT\", \"date\": \"2005-10-01T00:00:00\", \"price\": 23.8}, {\"symbol\": \"MSFT\", \"date\": \"2005-11-01T00:00:00\", \"price\": 25.71}, {\"symbol\": \"MSFT\", \"date\": \"2005-12-01T00:00:00\", \"price\": 24.29}, {\"symbol\": \"MSFT\", \"date\": \"2006-01-01T00:00:00\", \"price\": 26.14}, {\"symbol\": \"MSFT\", \"date\": \"2006-02-01T00:00:00\", \"price\": 25.04}, {\"symbol\": \"MSFT\", \"date\": \"2006-03-01T00:00:00\", \"price\": 25.36}, {\"symbol\": \"MSFT\", \"date\": \"2006-04-01T00:00:00\", \"price\": 22.5}, {\"symbol\": \"MSFT\", \"date\": \"2006-05-01T00:00:00\", \"price\": 21.19}, {\"symbol\": \"MSFT\", \"date\": \"2006-06-01T00:00:00\", \"price\": 21.8}, {\"symbol\": \"MSFT\", \"date\": \"2006-07-01T00:00:00\", \"price\": 22.51}, {\"symbol\": \"MSFT\", \"date\": \"2006-08-01T00:00:00\", \"price\": 24.13}, {\"symbol\": \"MSFT\", \"date\": \"2006-09-01T00:00:00\", \"price\": 25.68}, {\"symbol\": \"MSFT\", \"date\": \"2006-10-01T00:00:00\", \"price\": 26.96}, {\"symbol\": \"MSFT\", \"date\": \"2006-11-01T00:00:00\", \"price\": 27.66}, {\"symbol\": \"MSFT\", \"date\": \"2006-12-01T00:00:00\", \"price\": 28.13}, {\"symbol\": \"MSFT\", \"date\": \"2007-01-01T00:00:00\", \"price\": 29.07}, {\"symbol\": \"MSFT\", \"date\": \"2007-02-01T00:00:00\", \"price\": 26.63}, {\"symbol\": \"MSFT\", \"date\": \"2007-03-01T00:00:00\", \"price\": 26.35}, {\"symbol\": \"MSFT\", \"date\": \"2007-04-01T00:00:00\", \"price\": 28.3}, {\"symbol\": \"MSFT\", \"date\": \"2007-05-01T00:00:00\", \"price\": 29.11}, {\"symbol\": \"MSFT\", \"date\": \"2007-06-01T00:00:00\", \"price\": 27.95}, {\"symbol\": \"MSFT\", \"date\": \"2007-07-01T00:00:00\", \"price\": 27.5}, {\"symbol\": \"MSFT\", \"date\": \"2007-08-01T00:00:00\", \"price\": 27.34}, {\"symbol\": \"MSFT\", \"date\": \"2007-09-01T00:00:00\", \"price\": 28.04}, {\"symbol\": \"MSFT\", \"date\": \"2007-10-01T00:00:00\", \"price\": 35.03}, {\"symbol\": \"MSFT\", \"date\": \"2007-11-01T00:00:00\", \"price\": 32.09}, {\"symbol\": \"MSFT\", \"date\": \"2007-12-01T00:00:00\", \"price\": 34.0}, {\"symbol\": \"MSFT\", \"date\": \"2008-01-01T00:00:00\", \"price\": 31.13}, {\"symbol\": \"MSFT\", \"date\": \"2008-02-01T00:00:00\", \"price\": 26.07}, {\"symbol\": \"MSFT\", \"date\": \"2008-03-01T00:00:00\", \"price\": 27.21}, {\"symbol\": \"MSFT\", \"date\": \"2008-04-01T00:00:00\", \"price\": 27.34}, {\"symbol\": \"MSFT\", \"date\": \"2008-05-01T00:00:00\", \"price\": 27.25}, {\"symbol\": \"MSFT\", \"date\": \"2008-06-01T00:00:00\", \"price\": 26.47}, {\"symbol\": \"MSFT\", \"date\": \"2008-07-01T00:00:00\", \"price\": 24.75}, {\"symbol\": \"MSFT\", \"date\": \"2008-08-01T00:00:00\", \"price\": 26.36}, {\"symbol\": \"MSFT\", \"date\": \"2008-09-01T00:00:00\", \"price\": 25.78}, {\"symbol\": \"MSFT\", \"date\": \"2008-10-01T00:00:00\", \"price\": 21.57}, {\"symbol\": \"MSFT\", \"date\": \"2008-11-01T00:00:00\", \"price\": 19.66}, {\"symbol\": \"MSFT\", \"date\": \"2008-12-01T00:00:00\", \"price\": 18.91}, {\"symbol\": \"MSFT\", \"date\": \"2009-01-01T00:00:00\", \"price\": 16.63}, {\"symbol\": \"MSFT\", \"date\": \"2009-02-01T00:00:00\", \"price\": 15.81}, {\"symbol\": \"MSFT\", \"date\": \"2009-03-01T00:00:00\", \"price\": 17.99}, {\"symbol\": \"MSFT\", \"date\": \"2009-04-01T00:00:00\", \"price\": 19.84}, {\"symbol\": \"MSFT\", \"date\": \"2009-05-01T00:00:00\", \"price\": 20.59}, {\"symbol\": \"MSFT\", \"date\": \"2009-06-01T00:00:00\", \"price\": 23.42}, {\"symbol\": \"MSFT\", \"date\": \"2009-07-01T00:00:00\", \"price\": 23.18}, {\"symbol\": \"MSFT\", \"date\": \"2009-08-01T00:00:00\", \"price\": 24.43}, {\"symbol\": \"MSFT\", \"date\": \"2009-09-01T00:00:00\", \"price\": 25.49}, {\"symbol\": \"MSFT\", \"date\": \"2009-10-01T00:00:00\", \"price\": 27.48}, {\"symbol\": \"MSFT\", \"date\": \"2009-11-01T00:00:00\", \"price\": 29.27}, {\"symbol\": \"MSFT\", \"date\": \"2009-12-01T00:00:00\", \"price\": 30.34}, {\"symbol\": \"MSFT\", \"date\": \"2010-01-01T00:00:00\", \"price\": 28.05}, {\"symbol\": \"MSFT\", \"date\": \"2010-02-01T00:00:00\", \"price\": 28.67}, {\"symbol\": \"MSFT\", \"date\": \"2010-03-01T00:00:00\", \"price\": 28.8}, {\"symbol\": \"AMZN\", \"date\": \"2000-01-01T00:00:00\", \"price\": 64.56}, {\"symbol\": \"AMZN\", \"date\": \"2000-02-01T00:00:00\", \"price\": 68.87}, {\"symbol\": \"AMZN\", \"date\": \"2000-03-01T00:00:00\", \"price\": 67.0}, {\"symbol\": \"AMZN\", \"date\": \"2000-04-01T00:00:00\", \"price\": 55.19}, {\"symbol\": \"AMZN\", \"date\": \"2000-05-01T00:00:00\", \"price\": 48.31}, {\"symbol\": \"AMZN\", \"date\": \"2000-06-01T00:00:00\", \"price\": 36.31}, {\"symbol\": \"AMZN\", \"date\": \"2000-07-01T00:00:00\", \"price\": 30.12}, {\"symbol\": \"AMZN\", \"date\": \"2000-08-01T00:00:00\", \"price\": 41.5}, {\"symbol\": \"AMZN\", \"date\": \"2000-09-01T00:00:00\", \"price\": 38.44}, {\"symbol\": \"AMZN\", \"date\": \"2000-10-01T00:00:00\", \"price\": 36.62}, {\"symbol\": \"AMZN\", \"date\": \"2000-11-01T00:00:00\", \"price\": 24.69}, {\"symbol\": \"AMZN\", \"date\": \"2000-12-01T00:00:00\", \"price\": 15.56}, {\"symbol\": \"AMZN\", \"date\": \"2001-01-01T00:00:00\", \"price\": 17.31}, {\"symbol\": \"AMZN\", \"date\": \"2001-02-01T00:00:00\", \"price\": 10.19}, {\"symbol\": \"AMZN\", \"date\": \"2001-03-01T00:00:00\", \"price\": 10.23}, {\"symbol\": \"AMZN\", \"date\": \"2001-04-01T00:00:00\", \"price\": 15.78}, {\"symbol\": \"AMZN\", \"date\": \"2001-05-01T00:00:00\", \"price\": 16.69}, {\"symbol\": \"AMZN\", \"date\": \"2001-06-01T00:00:00\", \"price\": 14.15}, {\"symbol\": \"AMZN\", \"date\": \"2001-07-01T00:00:00\", \"price\": 12.49}, {\"symbol\": \"AMZN\", \"date\": \"2001-08-01T00:00:00\", \"price\": 8.94}, {\"symbol\": \"AMZN\", \"date\": \"2001-09-01T00:00:00\", \"price\": 5.97}, {\"symbol\": \"AMZN\", \"date\": \"2001-10-01T00:00:00\", \"price\": 6.98}, {\"symbol\": \"AMZN\", \"date\": \"2001-11-01T00:00:00\", \"price\": 11.32}, {\"symbol\": \"AMZN\", \"date\": \"2001-12-01T00:00:00\", \"price\": 10.82}, {\"symbol\": \"AMZN\", \"date\": \"2002-01-01T00:00:00\", \"price\": 14.19}, {\"symbol\": \"AMZN\", \"date\": \"2002-02-01T00:00:00\", \"price\": 14.1}, {\"symbol\": \"AMZN\", \"date\": \"2002-03-01T00:00:00\", \"price\": 14.3}, {\"symbol\": \"AMZN\", \"date\": \"2002-04-01T00:00:00\", \"price\": 16.69}, {\"symbol\": \"AMZN\", \"date\": \"2002-05-01T00:00:00\", \"price\": 18.23}, {\"symbol\": \"AMZN\", \"date\": \"2002-06-01T00:00:00\", \"price\": 16.25}, {\"symbol\": \"AMZN\", \"date\": \"2002-07-01T00:00:00\", \"price\": 14.45}, {\"symbol\": \"AMZN\", \"date\": \"2002-08-01T00:00:00\", \"price\": 14.94}, {\"symbol\": \"AMZN\", \"date\": \"2002-09-01T00:00:00\", \"price\": 15.93}, {\"symbol\": \"AMZN\", \"date\": \"2002-10-01T00:00:00\", \"price\": 19.36}, {\"symbol\": \"AMZN\", \"date\": \"2002-11-01T00:00:00\", \"price\": 23.35}, {\"symbol\": \"AMZN\", \"date\": \"2002-12-01T00:00:00\", \"price\": 18.89}, {\"symbol\": \"AMZN\", \"date\": \"2003-01-01T00:00:00\", \"price\": 21.85}, {\"symbol\": \"AMZN\", \"date\": \"2003-02-01T00:00:00\", \"price\": 22.01}, {\"symbol\": \"AMZN\", \"date\": \"2003-03-01T00:00:00\", \"price\": 26.03}, {\"symbol\": \"AMZN\", \"date\": \"2003-04-01T00:00:00\", \"price\": 28.69}, {\"symbol\": \"AMZN\", \"date\": \"2003-05-01T00:00:00\", \"price\": 35.89}, {\"symbol\": \"AMZN\", \"date\": \"2003-06-01T00:00:00\", \"price\": 36.32}, {\"symbol\": \"AMZN\", \"date\": \"2003-07-01T00:00:00\", \"price\": 41.64}, {\"symbol\": \"AMZN\", \"date\": \"2003-08-01T00:00:00\", \"price\": 46.32}, {\"symbol\": \"AMZN\", \"date\": \"2003-09-01T00:00:00\", \"price\": 48.43}, {\"symbol\": \"AMZN\", \"date\": \"2003-10-01T00:00:00\", \"price\": 54.43}, {\"symbol\": \"AMZN\", \"date\": \"2003-11-01T00:00:00\", \"price\": 53.97}, {\"symbol\": \"AMZN\", \"date\": \"2003-12-01T00:00:00\", \"price\": 52.62}, {\"symbol\": \"AMZN\", \"date\": \"2004-01-01T00:00:00\", \"price\": 50.4}, {\"symbol\": \"AMZN\", \"date\": \"2004-02-01T00:00:00\", \"price\": 43.01}, {\"symbol\": \"AMZN\", \"date\": \"2004-03-01T00:00:00\", \"price\": 43.28}, {\"symbol\": \"AMZN\", \"date\": \"2004-04-01T00:00:00\", \"price\": 43.6}, {\"symbol\": \"AMZN\", \"date\": \"2004-05-01T00:00:00\", \"price\": 48.5}, {\"symbol\": \"AMZN\", \"date\": \"2004-06-01T00:00:00\", \"price\": 54.4}, {\"symbol\": \"AMZN\", \"date\": \"2004-07-01T00:00:00\", \"price\": 38.92}, {\"symbol\": \"AMZN\", \"date\": \"2004-08-01T00:00:00\", \"price\": 38.14}, {\"symbol\": \"AMZN\", \"date\": \"2004-09-01T00:00:00\", \"price\": 40.86}, {\"symbol\": \"AMZN\", \"date\": \"2004-10-01T00:00:00\", \"price\": 34.13}, {\"symbol\": \"AMZN\", \"date\": \"2004-11-01T00:00:00\", \"price\": 39.68}, {\"symbol\": \"AMZN\", \"date\": \"2004-12-01T00:00:00\", \"price\": 44.29}, {\"symbol\": \"AMZN\", \"date\": \"2005-01-01T00:00:00\", \"price\": 43.22}, {\"symbol\": \"AMZN\", \"date\": \"2005-02-01T00:00:00\", \"price\": 35.18}, {\"symbol\": \"AMZN\", \"date\": \"2005-03-01T00:00:00\", \"price\": 34.27}, {\"symbol\": \"AMZN\", \"date\": \"2005-04-01T00:00:00\", \"price\": 32.36}, {\"symbol\": \"AMZN\", \"date\": \"2005-05-01T00:00:00\", \"price\": 35.51}, {\"symbol\": \"AMZN\", \"date\": \"2005-06-01T00:00:00\", \"price\": 33.09}, {\"symbol\": \"AMZN\", \"date\": \"2005-07-01T00:00:00\", \"price\": 45.15}, {\"symbol\": \"AMZN\", \"date\": \"2005-08-01T00:00:00\", \"price\": 42.7}, {\"symbol\": \"AMZN\", \"date\": \"2005-09-01T00:00:00\", \"price\": 45.3}, {\"symbol\": \"AMZN\", \"date\": \"2005-10-01T00:00:00\", \"price\": 39.86}, {\"symbol\": \"AMZN\", \"date\": \"2005-11-01T00:00:00\", \"price\": 48.46}, {\"symbol\": \"AMZN\", \"date\": \"2005-12-01T00:00:00\", \"price\": 47.15}, {\"symbol\": \"AMZN\", \"date\": \"2006-01-01T00:00:00\", \"price\": 44.82}, {\"symbol\": \"AMZN\", \"date\": \"2006-02-01T00:00:00\", \"price\": 37.44}, {\"symbol\": \"AMZN\", \"date\": \"2006-03-01T00:00:00\", \"price\": 36.53}, {\"symbol\": \"AMZN\", \"date\": \"2006-04-01T00:00:00\", \"price\": 35.21}, {\"symbol\": \"AMZN\", \"date\": \"2006-05-01T00:00:00\", \"price\": 34.61}, {\"symbol\": \"AMZN\", \"date\": \"2006-06-01T00:00:00\", \"price\": 38.68}, {\"symbol\": \"AMZN\", \"date\": \"2006-07-01T00:00:00\", \"price\": 26.89}, {\"symbol\": \"AMZN\", \"date\": \"2006-08-01T00:00:00\", \"price\": 30.83}, {\"symbol\": \"AMZN\", \"date\": \"2006-09-01T00:00:00\", \"price\": 32.12}, {\"symbol\": \"AMZN\", \"date\": \"2006-10-01T00:00:00\", \"price\": 38.09}, {\"symbol\": \"AMZN\", \"date\": \"2006-11-01T00:00:00\", \"price\": 40.34}, {\"symbol\": \"AMZN\", \"date\": \"2006-12-01T00:00:00\", \"price\": 39.46}, {\"symbol\": \"AMZN\", \"date\": \"2007-01-01T00:00:00\", \"price\": 37.67}, {\"symbol\": \"AMZN\", \"date\": \"2007-02-01T00:00:00\", \"price\": 39.14}, {\"symbol\": \"AMZN\", \"date\": \"2007-03-01T00:00:00\", \"price\": 39.79}, {\"symbol\": \"AMZN\", \"date\": \"2007-04-01T00:00:00\", \"price\": 61.33}, {\"symbol\": \"AMZN\", \"date\": \"2007-05-01T00:00:00\", \"price\": 69.14}, {\"symbol\": \"AMZN\", \"date\": \"2007-06-01T00:00:00\", \"price\": 68.41}, {\"symbol\": \"AMZN\", \"date\": \"2007-07-01T00:00:00\", \"price\": 78.54}, {\"symbol\": \"AMZN\", \"date\": \"2007-08-01T00:00:00\", \"price\": 79.91}, {\"symbol\": \"AMZN\", \"date\": \"2007-09-01T00:00:00\", \"price\": 93.15}, {\"symbol\": \"AMZN\", \"date\": \"2007-10-01T00:00:00\", \"price\": 89.15}, {\"symbol\": \"AMZN\", \"date\": \"2007-11-01T00:00:00\", \"price\": 90.56}, {\"symbol\": \"AMZN\", \"date\": \"2007-12-01T00:00:00\", \"price\": 92.64}, {\"symbol\": \"AMZN\", \"date\": \"2008-01-01T00:00:00\", \"price\": 77.7}, {\"symbol\": \"AMZN\", \"date\": \"2008-02-01T00:00:00\", \"price\": 64.47}, {\"symbol\": \"AMZN\", \"date\": \"2008-03-01T00:00:00\", \"price\": 71.3}, {\"symbol\": \"AMZN\", \"date\": \"2008-04-01T00:00:00\", \"price\": 78.63}, {\"symbol\": \"AMZN\", \"date\": \"2008-05-01T00:00:00\", \"price\": 81.62}, {\"symbol\": \"AMZN\", \"date\": \"2008-06-01T00:00:00\", \"price\": 73.33}, {\"symbol\": \"AMZN\", \"date\": \"2008-07-01T00:00:00\", \"price\": 76.34}, {\"symbol\": \"AMZN\", \"date\": \"2008-08-01T00:00:00\", \"price\": 80.81}, {\"symbol\": \"AMZN\", \"date\": \"2008-09-01T00:00:00\", \"price\": 72.76}, {\"symbol\": \"AMZN\", \"date\": \"2008-10-01T00:00:00\", \"price\": 57.24}, {\"symbol\": \"AMZN\", \"date\": \"2008-11-01T00:00:00\", \"price\": 42.7}, {\"symbol\": \"AMZN\", \"date\": \"2008-12-01T00:00:00\", \"price\": 51.28}, {\"symbol\": \"AMZN\", \"date\": \"2009-01-01T00:00:00\", \"price\": 58.82}, {\"symbol\": \"AMZN\", \"date\": \"2009-02-01T00:00:00\", \"price\": 64.79}, {\"symbol\": \"AMZN\", \"date\": \"2009-03-01T00:00:00\", \"price\": 73.44}, {\"symbol\": \"AMZN\", \"date\": \"2009-04-01T00:00:00\", \"price\": 80.52}, {\"symbol\": \"AMZN\", \"date\": \"2009-05-01T00:00:00\", \"price\": 77.99}, {\"symbol\": \"AMZN\", \"date\": \"2009-06-01T00:00:00\", \"price\": 83.66}, {\"symbol\": \"AMZN\", \"date\": \"2009-07-01T00:00:00\", \"price\": 85.76}, {\"symbol\": \"AMZN\", \"date\": \"2009-08-01T00:00:00\", \"price\": 81.19}, {\"symbol\": \"AMZN\", \"date\": \"2009-09-01T00:00:00\", \"price\": 93.36}, {\"symbol\": \"AMZN\", \"date\": \"2009-10-01T00:00:00\", \"price\": 118.81}, {\"symbol\": \"AMZN\", \"date\": \"2009-11-01T00:00:00\", \"price\": 135.91}, {\"symbol\": \"AMZN\", \"date\": \"2009-12-01T00:00:00\", \"price\": 134.52}, {\"symbol\": \"AMZN\", \"date\": \"2010-01-01T00:00:00\", \"price\": 125.41}, {\"symbol\": \"AMZN\", \"date\": \"2010-02-01T00:00:00\", \"price\": 118.4}, {\"symbol\": \"AMZN\", \"date\": \"2010-03-01T00:00:00\", \"price\": 128.82}, {\"symbol\": \"IBM\", \"date\": \"2000-01-01T00:00:00\", \"price\": 100.52}, {\"symbol\": \"IBM\", \"date\": \"2000-02-01T00:00:00\", \"price\": 92.11}, {\"symbol\": \"IBM\", \"date\": \"2000-03-01T00:00:00\", \"price\": 106.11}, {\"symbol\": \"IBM\", \"date\": \"2000-04-01T00:00:00\", \"price\": 99.95}, {\"symbol\": \"IBM\", \"date\": \"2000-05-01T00:00:00\", \"price\": 96.31}, {\"symbol\": \"IBM\", \"date\": \"2000-06-01T00:00:00\", \"price\": 98.33}, {\"symbol\": \"IBM\", \"date\": \"2000-07-01T00:00:00\", \"price\": 100.74}, {\"symbol\": \"IBM\", \"date\": \"2000-08-01T00:00:00\", \"price\": 118.62}, {\"symbol\": \"IBM\", \"date\": \"2000-09-01T00:00:00\", \"price\": 101.19}, {\"symbol\": \"IBM\", \"date\": \"2000-10-01T00:00:00\", \"price\": 88.5}, {\"symbol\": \"IBM\", \"date\": \"2000-11-01T00:00:00\", \"price\": 84.12}, {\"symbol\": \"IBM\", \"date\": \"2000-12-01T00:00:00\", \"price\": 76.47}, {\"symbol\": \"IBM\", \"date\": \"2001-01-01T00:00:00\", \"price\": 100.76}, {\"symbol\": \"IBM\", \"date\": \"2001-02-01T00:00:00\", \"price\": 89.98}, {\"symbol\": \"IBM\", \"date\": \"2001-03-01T00:00:00\", \"price\": 86.63}, {\"symbol\": \"IBM\", \"date\": \"2001-04-01T00:00:00\", \"price\": 103.7}, {\"symbol\": \"IBM\", \"date\": \"2001-05-01T00:00:00\", \"price\": 100.82}, {\"symbol\": \"IBM\", \"date\": \"2001-06-01T00:00:00\", \"price\": 102.35}, {\"symbol\": \"IBM\", \"date\": \"2001-07-01T00:00:00\", \"price\": 94.87}, {\"symbol\": \"IBM\", \"date\": \"2001-08-01T00:00:00\", \"price\": 90.25}, {\"symbol\": \"IBM\", \"date\": \"2001-09-01T00:00:00\", \"price\": 82.82}, {\"symbol\": \"IBM\", \"date\": \"2001-10-01T00:00:00\", \"price\": 97.58}, {\"symbol\": \"IBM\", \"date\": \"2001-11-01T00:00:00\", \"price\": 104.5}, {\"symbol\": \"IBM\", \"date\": \"2001-12-01T00:00:00\", \"price\": 109.36}, {\"symbol\": \"IBM\", \"date\": \"2002-01-01T00:00:00\", \"price\": 97.54}, {\"symbol\": \"IBM\", \"date\": \"2002-02-01T00:00:00\", \"price\": 88.82}, {\"symbol\": \"IBM\", \"date\": \"2002-03-01T00:00:00\", \"price\": 94.15}, {\"symbol\": \"IBM\", \"date\": \"2002-04-01T00:00:00\", \"price\": 75.82}, {\"symbol\": \"IBM\", \"date\": \"2002-05-01T00:00:00\", \"price\": 72.97}, {\"symbol\": \"IBM\", \"date\": \"2002-06-01T00:00:00\", \"price\": 65.31}, {\"symbol\": \"IBM\", \"date\": \"2002-07-01T00:00:00\", \"price\": 63.86}, {\"symbol\": \"IBM\", \"date\": \"2002-08-01T00:00:00\", \"price\": 68.52}, {\"symbol\": \"IBM\", \"date\": \"2002-09-01T00:00:00\", \"price\": 53.01}, {\"symbol\": \"IBM\", \"date\": \"2002-10-01T00:00:00\", \"price\": 71.76}, {\"symbol\": \"IBM\", \"date\": \"2002-11-01T00:00:00\", \"price\": 79.16}, {\"symbol\": \"IBM\", \"date\": \"2002-12-01T00:00:00\", \"price\": 70.58}, {\"symbol\": \"IBM\", \"date\": \"2003-01-01T00:00:00\", \"price\": 71.22}, {\"symbol\": \"IBM\", \"date\": \"2003-02-01T00:00:00\", \"price\": 71.13}, {\"symbol\": \"IBM\", \"date\": \"2003-03-01T00:00:00\", \"price\": 71.57}, {\"symbol\": \"IBM\", \"date\": \"2003-04-01T00:00:00\", \"price\": 77.47}, {\"symbol\": \"IBM\", \"date\": \"2003-05-01T00:00:00\", \"price\": 80.48}, {\"symbol\": \"IBM\", \"date\": \"2003-06-01T00:00:00\", \"price\": 75.42}, {\"symbol\": \"IBM\", \"date\": \"2003-07-01T00:00:00\", \"price\": 74.28}, {\"symbol\": \"IBM\", \"date\": \"2003-08-01T00:00:00\", \"price\": 75.12}, {\"symbol\": \"IBM\", \"date\": \"2003-09-01T00:00:00\", \"price\": 80.91}, {\"symbol\": \"IBM\", \"date\": \"2003-10-01T00:00:00\", \"price\": 81.96}, {\"symbol\": \"IBM\", \"date\": \"2003-11-01T00:00:00\", \"price\": 83.08}, {\"symbol\": \"IBM\", \"date\": \"2003-12-01T00:00:00\", \"price\": 85.05}, {\"symbol\": \"IBM\", \"date\": \"2004-01-01T00:00:00\", \"price\": 91.06}, {\"symbol\": \"IBM\", \"date\": \"2004-02-01T00:00:00\", \"price\": 88.7}, {\"symbol\": \"IBM\", \"date\": \"2004-03-01T00:00:00\", \"price\": 84.41}, {\"symbol\": \"IBM\", \"date\": \"2004-04-01T00:00:00\", \"price\": 81.04}, {\"symbol\": \"IBM\", \"date\": \"2004-05-01T00:00:00\", \"price\": 81.59}, {\"symbol\": \"IBM\", \"date\": \"2004-06-01T00:00:00\", \"price\": 81.19}, {\"symbol\": \"IBM\", \"date\": \"2004-07-01T00:00:00\", \"price\": 80.19}, {\"symbol\": \"IBM\", \"date\": \"2004-08-01T00:00:00\", \"price\": 78.17}, {\"symbol\": \"IBM\", \"date\": \"2004-09-01T00:00:00\", \"price\": 79.13}, {\"symbol\": \"IBM\", \"date\": \"2004-10-01T00:00:00\", \"price\": 82.84}, {\"symbol\": \"IBM\", \"date\": \"2004-11-01T00:00:00\", \"price\": 87.15}, {\"symbol\": \"IBM\", \"date\": \"2004-12-01T00:00:00\", \"price\": 91.16}, {\"symbol\": \"IBM\", \"date\": \"2005-01-01T00:00:00\", \"price\": 86.39}, {\"symbol\": \"IBM\", \"date\": \"2005-02-01T00:00:00\", \"price\": 85.78}, {\"symbol\": \"IBM\", \"date\": \"2005-03-01T00:00:00\", \"price\": 84.66}, {\"symbol\": \"IBM\", \"date\": \"2005-04-01T00:00:00\", \"price\": 70.77}, {\"symbol\": \"IBM\", \"date\": \"2005-05-01T00:00:00\", \"price\": 70.18}, {\"symbol\": \"IBM\", \"date\": \"2005-06-01T00:00:00\", \"price\": 68.93}, {\"symbol\": \"IBM\", \"date\": \"2005-07-01T00:00:00\", \"price\": 77.53}, {\"symbol\": \"IBM\", \"date\": \"2005-08-01T00:00:00\", \"price\": 75.07}, {\"symbol\": \"IBM\", \"date\": \"2005-09-01T00:00:00\", \"price\": 74.7}, {\"symbol\": \"IBM\", \"date\": \"2005-10-01T00:00:00\", \"price\": 76.25}, {\"symbol\": \"IBM\", \"date\": \"2005-11-01T00:00:00\", \"price\": 82.98}, {\"symbol\": \"IBM\", \"date\": \"2005-12-01T00:00:00\", \"price\": 76.73}, {\"symbol\": \"IBM\", \"date\": \"2006-01-01T00:00:00\", \"price\": 75.89}, {\"symbol\": \"IBM\", \"date\": \"2006-02-01T00:00:00\", \"price\": 75.09}, {\"symbol\": \"IBM\", \"date\": \"2006-03-01T00:00:00\", \"price\": 77.17}, {\"symbol\": \"IBM\", \"date\": \"2006-04-01T00:00:00\", \"price\": 77.05}, {\"symbol\": \"IBM\", \"date\": \"2006-05-01T00:00:00\", \"price\": 75.04}, {\"symbol\": \"IBM\", \"date\": \"2006-06-01T00:00:00\", \"price\": 72.15}, {\"symbol\": \"IBM\", \"date\": \"2006-07-01T00:00:00\", \"price\": 72.7}, {\"symbol\": \"IBM\", \"date\": \"2006-08-01T00:00:00\", \"price\": 76.35}, {\"symbol\": \"IBM\", \"date\": \"2006-09-01T00:00:00\", \"price\": 77.26}, {\"symbol\": \"IBM\", \"date\": \"2006-10-01T00:00:00\", \"price\": 87.06}, {\"symbol\": \"IBM\", \"date\": \"2006-11-01T00:00:00\", \"price\": 86.95}, {\"symbol\": \"IBM\", \"date\": \"2006-12-01T00:00:00\", \"price\": 91.9}, {\"symbol\": \"IBM\", \"date\": \"2007-01-01T00:00:00\", \"price\": 93.79}, {\"symbol\": \"IBM\", \"date\": \"2007-02-01T00:00:00\", \"price\": 88.18}, {\"symbol\": \"IBM\", \"date\": \"2007-03-01T00:00:00\", \"price\": 89.44}, {\"symbol\": \"IBM\", \"date\": \"2007-04-01T00:00:00\", \"price\": 96.98}, {\"symbol\": \"IBM\", \"date\": \"2007-05-01T00:00:00\", \"price\": 101.54}, {\"symbol\": \"IBM\", \"date\": \"2007-06-01T00:00:00\", \"price\": 100.25}, {\"symbol\": \"IBM\", \"date\": \"2007-07-01T00:00:00\", \"price\": 105.4}, {\"symbol\": \"IBM\", \"date\": \"2007-08-01T00:00:00\", \"price\": 111.54}, {\"symbol\": \"IBM\", \"date\": \"2007-09-01T00:00:00\", \"price\": 112.6}, {\"symbol\": \"IBM\", \"date\": \"2007-10-01T00:00:00\", \"price\": 111.0}, {\"symbol\": \"IBM\", \"date\": \"2007-11-01T00:00:00\", \"price\": 100.9}, {\"symbol\": \"IBM\", \"date\": \"2007-12-01T00:00:00\", \"price\": 103.7}, {\"symbol\": \"IBM\", \"date\": \"2008-01-01T00:00:00\", \"price\": 102.75}, {\"symbol\": \"IBM\", \"date\": \"2008-02-01T00:00:00\", \"price\": 109.64}, {\"symbol\": \"IBM\", \"date\": \"2008-03-01T00:00:00\", \"price\": 110.87}, {\"symbol\": \"IBM\", \"date\": \"2008-04-01T00:00:00\", \"price\": 116.23}, {\"symbol\": \"IBM\", \"date\": \"2008-05-01T00:00:00\", \"price\": 125.14}, {\"symbol\": \"IBM\", \"date\": \"2008-06-01T00:00:00\", \"price\": 114.6}, {\"symbol\": \"IBM\", \"date\": \"2008-07-01T00:00:00\", \"price\": 123.74}, {\"symbol\": \"IBM\", \"date\": \"2008-08-01T00:00:00\", \"price\": 118.16}, {\"symbol\": \"IBM\", \"date\": \"2008-09-01T00:00:00\", \"price\": 113.53}, {\"symbol\": \"IBM\", \"date\": \"2008-10-01T00:00:00\", \"price\": 90.24}, {\"symbol\": \"IBM\", \"date\": \"2008-11-01T00:00:00\", \"price\": 79.65}, {\"symbol\": \"IBM\", \"date\": \"2008-12-01T00:00:00\", \"price\": 82.15}, {\"symbol\": \"IBM\", \"date\": \"2009-01-01T00:00:00\", \"price\": 89.46}, {\"symbol\": \"IBM\", \"date\": \"2009-02-01T00:00:00\", \"price\": 90.32}, {\"symbol\": \"IBM\", \"date\": \"2009-03-01T00:00:00\", \"price\": 95.09}, {\"symbol\": \"IBM\", \"date\": \"2009-04-01T00:00:00\", \"price\": 101.29}, {\"symbol\": \"IBM\", \"date\": \"2009-05-01T00:00:00\", \"price\": 104.85}, {\"symbol\": \"IBM\", \"date\": \"2009-06-01T00:00:00\", \"price\": 103.01}, {\"symbol\": \"IBM\", \"date\": \"2009-07-01T00:00:00\", \"price\": 116.34}, {\"symbol\": \"IBM\", \"date\": \"2009-08-01T00:00:00\", \"price\": 117.0}, {\"symbol\": \"IBM\", \"date\": \"2009-09-01T00:00:00\", \"price\": 118.55}, {\"symbol\": \"IBM\", \"date\": \"2009-10-01T00:00:00\", \"price\": 119.54}, {\"symbol\": \"IBM\", \"date\": \"2009-11-01T00:00:00\", \"price\": 125.79}, {\"symbol\": \"IBM\", \"date\": \"2009-12-01T00:00:00\", \"price\": 130.32}, {\"symbol\": \"IBM\", \"date\": \"2010-01-01T00:00:00\", \"price\": 121.85}, {\"symbol\": \"IBM\", \"date\": \"2010-02-01T00:00:00\", \"price\": 127.16}, {\"symbol\": \"IBM\", \"date\": \"2010-03-01T00:00:00\", \"price\": 125.55}, {\"symbol\": \"GOOG\", \"date\": \"2004-08-01T00:00:00\", \"price\": 102.37}, {\"symbol\": \"GOOG\", \"date\": \"2004-09-01T00:00:00\", \"price\": 129.6}, {\"symbol\": \"GOOG\", \"date\": \"2004-10-01T00:00:00\", \"price\": 190.64}, {\"symbol\": \"GOOG\", \"date\": \"2004-11-01T00:00:00\", \"price\": 181.98}, {\"symbol\": \"GOOG\", \"date\": \"2004-12-01T00:00:00\", \"price\": 192.79}, {\"symbol\": \"GOOG\", \"date\": \"2005-01-01T00:00:00\", \"price\": 195.62}, {\"symbol\": \"GOOG\", \"date\": \"2005-02-01T00:00:00\", \"price\": 187.99}, {\"symbol\": \"GOOG\", \"date\": \"2005-03-01T00:00:00\", \"price\": 180.51}, {\"symbol\": \"GOOG\", \"date\": \"2005-04-01T00:00:00\", \"price\": 220.0}, {\"symbol\": \"GOOG\", \"date\": \"2005-05-01T00:00:00\", \"price\": 277.27}, {\"symbol\": \"GOOG\", \"date\": \"2005-06-01T00:00:00\", \"price\": 294.15}, {\"symbol\": \"GOOG\", \"date\": \"2005-07-01T00:00:00\", \"price\": 287.76}, {\"symbol\": \"GOOG\", \"date\": \"2005-08-01T00:00:00\", \"price\": 286.0}, {\"symbol\": \"GOOG\", \"date\": \"2005-09-01T00:00:00\", \"price\": 316.46}, {\"symbol\": \"GOOG\", \"date\": \"2005-10-01T00:00:00\", \"price\": 372.14}, {\"symbol\": \"GOOG\", \"date\": \"2005-11-01T00:00:00\", \"price\": 404.91}, {\"symbol\": \"GOOG\", \"date\": \"2005-12-01T00:00:00\", \"price\": 414.86}, {\"symbol\": \"GOOG\", \"date\": \"2006-01-01T00:00:00\", \"price\": 432.66}, {\"symbol\": \"GOOG\", \"date\": \"2006-02-01T00:00:00\", \"price\": 362.62}, {\"symbol\": \"GOOG\", \"date\": \"2006-03-01T00:00:00\", \"price\": 390.0}, {\"symbol\": \"GOOG\", \"date\": \"2006-04-01T00:00:00\", \"price\": 417.94}, {\"symbol\": \"GOOG\", \"date\": \"2006-05-01T00:00:00\", \"price\": 371.82}, {\"symbol\": \"GOOG\", \"date\": \"2006-06-01T00:00:00\", \"price\": 419.33}, {\"symbol\": \"GOOG\", \"date\": \"2006-07-01T00:00:00\", \"price\": 386.6}, {\"symbol\": \"GOOG\", \"date\": \"2006-08-01T00:00:00\", \"price\": 378.53}, {\"symbol\": \"GOOG\", \"date\": \"2006-09-01T00:00:00\", \"price\": 401.9}, {\"symbol\": \"GOOG\", \"date\": \"2006-10-01T00:00:00\", \"price\": 476.39}, {\"symbol\": \"GOOG\", \"date\": \"2006-11-01T00:00:00\", \"price\": 484.81}, {\"symbol\": \"GOOG\", \"date\": \"2006-12-01T00:00:00\", \"price\": 460.48}, {\"symbol\": \"GOOG\", \"date\": \"2007-01-01T00:00:00\", \"price\": 501.5}, {\"symbol\": \"GOOG\", \"date\": \"2007-02-01T00:00:00\", \"price\": 449.45}, {\"symbol\": \"GOOG\", \"date\": \"2007-03-01T00:00:00\", \"price\": 458.16}, {\"symbol\": \"GOOG\", \"date\": \"2007-04-01T00:00:00\", \"price\": 471.38}, {\"symbol\": \"GOOG\", \"date\": \"2007-05-01T00:00:00\", \"price\": 497.91}, {\"symbol\": \"GOOG\", \"date\": \"2007-06-01T00:00:00\", \"price\": 522.7}, {\"symbol\": \"GOOG\", \"date\": \"2007-07-01T00:00:00\", \"price\": 510.0}, {\"symbol\": \"GOOG\", \"date\": \"2007-08-01T00:00:00\", \"price\": 515.25}, {\"symbol\": \"GOOG\", \"date\": \"2007-09-01T00:00:00\", \"price\": 567.27}, {\"symbol\": \"GOOG\", \"date\": \"2007-10-01T00:00:00\", \"price\": 707.0}, {\"symbol\": \"GOOG\", \"date\": \"2007-11-01T00:00:00\", \"price\": 693.0}, {\"symbol\": \"GOOG\", \"date\": \"2007-12-01T00:00:00\", \"price\": 691.48}, {\"symbol\": \"GOOG\", \"date\": \"2008-01-01T00:00:00\", \"price\": 564.3}, {\"symbol\": \"GOOG\", \"date\": \"2008-02-01T00:00:00\", \"price\": 471.18}, {\"symbol\": \"GOOG\", \"date\": \"2008-03-01T00:00:00\", \"price\": 440.47}, {\"symbol\": \"GOOG\", \"date\": \"2008-04-01T00:00:00\", \"price\": 574.29}, {\"symbol\": \"GOOG\", \"date\": \"2008-05-01T00:00:00\", \"price\": 585.8}, {\"symbol\": \"GOOG\", \"date\": \"2008-06-01T00:00:00\", \"price\": 526.42}, {\"symbol\": \"GOOG\", \"date\": \"2008-07-01T00:00:00\", \"price\": 473.75}, {\"symbol\": \"GOOG\", \"date\": \"2008-08-01T00:00:00\", \"price\": 463.29}, {\"symbol\": \"GOOG\", \"date\": \"2008-09-01T00:00:00\", \"price\": 400.52}, {\"symbol\": \"GOOG\", \"date\": \"2008-10-01T00:00:00\", \"price\": 359.36}, {\"symbol\": \"GOOG\", \"date\": \"2008-11-01T00:00:00\", \"price\": 292.96}, {\"symbol\": \"GOOG\", \"date\": \"2008-12-01T00:00:00\", \"price\": 307.65}, {\"symbol\": \"GOOG\", \"date\": \"2009-01-01T00:00:00\", \"price\": 338.53}, {\"symbol\": \"GOOG\", \"date\": \"2009-02-01T00:00:00\", \"price\": 337.99}, {\"symbol\": \"GOOG\", \"date\": \"2009-03-01T00:00:00\", \"price\": 348.06}, {\"symbol\": \"GOOG\", \"date\": \"2009-04-01T00:00:00\", \"price\": 395.97}, {\"symbol\": \"GOOG\", \"date\": \"2009-05-01T00:00:00\", \"price\": 417.23}, {\"symbol\": \"GOOG\", \"date\": \"2009-06-01T00:00:00\", \"price\": 421.59}, {\"symbol\": \"GOOG\", \"date\": \"2009-07-01T00:00:00\", \"price\": 443.05}, {\"symbol\": \"GOOG\", \"date\": \"2009-08-01T00:00:00\", \"price\": 461.67}, {\"symbol\": \"GOOG\", \"date\": \"2009-09-01T00:00:00\", \"price\": 495.85}, {\"symbol\": \"GOOG\", \"date\": \"2009-10-01T00:00:00\", \"price\": 536.12}, {\"symbol\": \"GOOG\", \"date\": \"2009-11-01T00:00:00\", \"price\": 583.0}, {\"symbol\": \"GOOG\", \"date\": \"2009-12-01T00:00:00\", \"price\": 619.98}, {\"symbol\": \"GOOG\", \"date\": \"2010-01-01T00:00:00\", \"price\": 529.94}, {\"symbol\": \"GOOG\", \"date\": \"2010-02-01T00:00:00\", \"price\": 526.8}, {\"symbol\": \"GOOG\", \"date\": \"2010-03-01T00:00:00\", \"price\": 560.19}, {\"symbol\": \"AAPL\", \"date\": \"2000-01-01T00:00:00\", \"price\": 25.94}, {\"symbol\": \"AAPL\", \"date\": \"2000-02-01T00:00:00\", \"price\": 28.66}, {\"symbol\": \"AAPL\", \"date\": \"2000-03-01T00:00:00\", \"price\": 33.95}, {\"symbol\": \"AAPL\", \"date\": \"2000-04-01T00:00:00\", \"price\": 31.01}, {\"symbol\": \"AAPL\", \"date\": \"2000-05-01T00:00:00\", \"price\": 21.0}, {\"symbol\": \"AAPL\", \"date\": \"2000-06-01T00:00:00\", \"price\": 26.19}, {\"symbol\": \"AAPL\", \"date\": \"2000-07-01T00:00:00\", \"price\": 25.41}, {\"symbol\": \"AAPL\", \"date\": \"2000-08-01T00:00:00\", \"price\": 30.47}, {\"symbol\": \"AAPL\", \"date\": \"2000-09-01T00:00:00\", \"price\": 12.88}, {\"symbol\": \"AAPL\", \"date\": \"2000-10-01T00:00:00\", \"price\": 9.78}, {\"symbol\": \"AAPL\", \"date\": \"2000-11-01T00:00:00\", \"price\": 8.25}, {\"symbol\": \"AAPL\", \"date\": \"2000-12-01T00:00:00\", \"price\": 7.44}, {\"symbol\": \"AAPL\", \"date\": \"2001-01-01T00:00:00\", \"price\": 10.81}, {\"symbol\": \"AAPL\", \"date\": \"2001-02-01T00:00:00\", \"price\": 9.12}, {\"symbol\": \"AAPL\", \"date\": \"2001-03-01T00:00:00\", \"price\": 11.03}, {\"symbol\": \"AAPL\", \"date\": \"2001-04-01T00:00:00\", \"price\": 12.74}, {\"symbol\": \"AAPL\", \"date\": \"2001-05-01T00:00:00\", \"price\": 9.98}, {\"symbol\": \"AAPL\", \"date\": \"2001-06-01T00:00:00\", \"price\": 11.62}, {\"symbol\": \"AAPL\", \"date\": \"2001-07-01T00:00:00\", \"price\": 9.4}, {\"symbol\": \"AAPL\", \"date\": \"2001-08-01T00:00:00\", \"price\": 9.27}, {\"symbol\": \"AAPL\", \"date\": \"2001-09-01T00:00:00\", \"price\": 7.76}, {\"symbol\": \"AAPL\", \"date\": \"2001-10-01T00:00:00\", \"price\": 8.78}, {\"symbol\": \"AAPL\", \"date\": \"2001-11-01T00:00:00\", \"price\": 10.65}, {\"symbol\": \"AAPL\", \"date\": \"2001-12-01T00:00:00\", \"price\": 10.95}, {\"symbol\": \"AAPL\", \"date\": \"2002-01-01T00:00:00\", \"price\": 12.36}, {\"symbol\": \"AAPL\", \"date\": \"2002-02-01T00:00:00\", \"price\": 10.85}, {\"symbol\": \"AAPL\", \"date\": \"2002-03-01T00:00:00\", \"price\": 11.84}, {\"symbol\": \"AAPL\", \"date\": \"2002-04-01T00:00:00\", \"price\": 12.14}, {\"symbol\": \"AAPL\", \"date\": \"2002-05-01T00:00:00\", \"price\": 11.65}, {\"symbol\": \"AAPL\", \"date\": \"2002-06-01T00:00:00\", \"price\": 8.86}, {\"symbol\": \"AAPL\", \"date\": \"2002-07-01T00:00:00\", \"price\": 7.63}, {\"symbol\": \"AAPL\", \"date\": \"2002-08-01T00:00:00\", \"price\": 7.38}, {\"symbol\": \"AAPL\", \"date\": \"2002-09-01T00:00:00\", \"price\": 7.25}, {\"symbol\": \"AAPL\", \"date\": \"2002-10-01T00:00:00\", \"price\": 8.03}, {\"symbol\": \"AAPL\", \"date\": \"2002-11-01T00:00:00\", \"price\": 7.75}, {\"symbol\": \"AAPL\", \"date\": \"2002-12-01T00:00:00\", \"price\": 7.16}, {\"symbol\": \"AAPL\", \"date\": \"2003-01-01T00:00:00\", \"price\": 7.18}, {\"symbol\": \"AAPL\", \"date\": \"2003-02-01T00:00:00\", \"price\": 7.51}, {\"symbol\": \"AAPL\", \"date\": \"2003-03-01T00:00:00\", \"price\": 7.07}, {\"symbol\": \"AAPL\", \"date\": \"2003-04-01T00:00:00\", \"price\": 7.11}, {\"symbol\": \"AAPL\", \"date\": \"2003-05-01T00:00:00\", \"price\": 8.98}, {\"symbol\": \"AAPL\", \"date\": \"2003-06-01T00:00:00\", \"price\": 9.53}, {\"symbol\": \"AAPL\", \"date\": \"2003-07-01T00:00:00\", \"price\": 10.54}, {\"symbol\": \"AAPL\", \"date\": \"2003-08-01T00:00:00\", \"price\": 11.31}, {\"symbol\": \"AAPL\", \"date\": \"2003-09-01T00:00:00\", \"price\": 10.36}, {\"symbol\": \"AAPL\", \"date\": \"2003-10-01T00:00:00\", \"price\": 11.44}, {\"symbol\": \"AAPL\", \"date\": \"2003-11-01T00:00:00\", \"price\": 10.45}, {\"symbol\": \"AAPL\", \"date\": \"2003-12-01T00:00:00\", \"price\": 10.69}, {\"symbol\": \"AAPL\", \"date\": \"2004-01-01T00:00:00\", \"price\": 11.28}, {\"symbol\": \"AAPL\", \"date\": \"2004-02-01T00:00:00\", \"price\": 11.96}, {\"symbol\": \"AAPL\", \"date\": \"2004-03-01T00:00:00\", \"price\": 13.52}, {\"symbol\": \"AAPL\", \"date\": \"2004-04-01T00:00:00\", \"price\": 12.89}, {\"symbol\": \"AAPL\", \"date\": \"2004-05-01T00:00:00\", \"price\": 14.03}, {\"symbol\": \"AAPL\", \"date\": \"2004-06-01T00:00:00\", \"price\": 16.27}, {\"symbol\": \"AAPL\", \"date\": \"2004-07-01T00:00:00\", \"price\": 16.17}, {\"symbol\": \"AAPL\", \"date\": \"2004-08-01T00:00:00\", \"price\": 17.25}, {\"symbol\": \"AAPL\", \"date\": \"2004-09-01T00:00:00\", \"price\": 19.38}, {\"symbol\": \"AAPL\", \"date\": \"2004-10-01T00:00:00\", \"price\": 26.2}, {\"symbol\": \"AAPL\", \"date\": \"2004-11-01T00:00:00\", \"price\": 33.53}, {\"symbol\": \"AAPL\", \"date\": \"2004-12-01T00:00:00\", \"price\": 32.2}, {\"symbol\": \"AAPL\", \"date\": \"2005-01-01T00:00:00\", \"price\": 38.45}, {\"symbol\": \"AAPL\", \"date\": \"2005-02-01T00:00:00\", \"price\": 44.86}, {\"symbol\": \"AAPL\", \"date\": \"2005-03-01T00:00:00\", \"price\": 41.67}, {\"symbol\": \"AAPL\", \"date\": \"2005-04-01T00:00:00\", \"price\": 36.06}, {\"symbol\": \"AAPL\", \"date\": \"2005-05-01T00:00:00\", \"price\": 39.76}, {\"symbol\": \"AAPL\", \"date\": \"2005-06-01T00:00:00\", \"price\": 36.81}, {\"symbol\": \"AAPL\", \"date\": \"2005-07-01T00:00:00\", \"price\": 42.65}, {\"symbol\": \"AAPL\", \"date\": \"2005-08-01T00:00:00\", \"price\": 46.89}, {\"symbol\": \"AAPL\", \"date\": \"2005-09-01T00:00:00\", \"price\": 53.61}, {\"symbol\": \"AAPL\", \"date\": \"2005-10-01T00:00:00\", \"price\": 57.59}, {\"symbol\": \"AAPL\", \"date\": \"2005-11-01T00:00:00\", \"price\": 67.82}, {\"symbol\": \"AAPL\", \"date\": \"2005-12-01T00:00:00\", \"price\": 71.89}, {\"symbol\": \"AAPL\", \"date\": \"2006-01-01T00:00:00\", \"price\": 75.51}, {\"symbol\": \"AAPL\", \"date\": \"2006-02-01T00:00:00\", \"price\": 68.49}, {\"symbol\": \"AAPL\", \"date\": \"2006-03-01T00:00:00\", \"price\": 62.72}, {\"symbol\": \"AAPL\", \"date\": \"2006-04-01T00:00:00\", \"price\": 70.39}, {\"symbol\": \"AAPL\", \"date\": \"2006-05-01T00:00:00\", \"price\": 59.77}, {\"symbol\": \"AAPL\", \"date\": \"2006-06-01T00:00:00\", \"price\": 57.27}, {\"symbol\": \"AAPL\", \"date\": \"2006-07-01T00:00:00\", \"price\": 67.96}, {\"symbol\": \"AAPL\", \"date\": \"2006-08-01T00:00:00\", \"price\": 67.85}, {\"symbol\": \"AAPL\", \"date\": \"2006-09-01T00:00:00\", \"price\": 76.98}, {\"symbol\": \"AAPL\", \"date\": \"2006-10-01T00:00:00\", \"price\": 81.08}, {\"symbol\": \"AAPL\", \"date\": \"2006-11-01T00:00:00\", \"price\": 91.66}, {\"symbol\": \"AAPL\", \"date\": \"2006-12-01T00:00:00\", \"price\": 84.84}, {\"symbol\": \"AAPL\", \"date\": \"2007-01-01T00:00:00\", \"price\": 85.73}, {\"symbol\": \"AAPL\", \"date\": \"2007-02-01T00:00:00\", \"price\": 84.61}, {\"symbol\": \"AAPL\", \"date\": \"2007-03-01T00:00:00\", \"price\": 92.91}, {\"symbol\": \"AAPL\", \"date\": \"2007-04-01T00:00:00\", \"price\": 99.8}, {\"symbol\": \"AAPL\", \"date\": \"2007-05-01T00:00:00\", \"price\": 121.19}, {\"symbol\": \"AAPL\", \"date\": \"2007-06-01T00:00:00\", \"price\": 122.04}, {\"symbol\": \"AAPL\", \"date\": \"2007-07-01T00:00:00\", \"price\": 131.76}, {\"symbol\": \"AAPL\", \"date\": \"2007-08-01T00:00:00\", \"price\": 138.48}, {\"symbol\": \"AAPL\", \"date\": \"2007-09-01T00:00:00\", \"price\": 153.47}, {\"symbol\": \"AAPL\", \"date\": \"2007-10-01T00:00:00\", \"price\": 189.95}, {\"symbol\": \"AAPL\", \"date\": \"2007-11-01T00:00:00\", \"price\": 182.22}, {\"symbol\": \"AAPL\", \"date\": \"2007-12-01T00:00:00\", \"price\": 198.08}, {\"symbol\": \"AAPL\", \"date\": \"2008-01-01T00:00:00\", \"price\": 135.36}, {\"symbol\": \"AAPL\", \"date\": \"2008-02-01T00:00:00\", \"price\": 125.02}, {\"symbol\": \"AAPL\", \"date\": \"2008-03-01T00:00:00\", \"price\": 143.5}, {\"symbol\": \"AAPL\", \"date\": \"2008-04-01T00:00:00\", \"price\": 173.95}, {\"symbol\": \"AAPL\", \"date\": \"2008-05-01T00:00:00\", \"price\": 188.75}, {\"symbol\": \"AAPL\", \"date\": \"2008-06-01T00:00:00\", \"price\": 167.44}, {\"symbol\": \"AAPL\", \"date\": \"2008-07-01T00:00:00\", \"price\": 158.95}, {\"symbol\": \"AAPL\", \"date\": \"2008-08-01T00:00:00\", \"price\": 169.53}, {\"symbol\": \"AAPL\", \"date\": \"2008-09-01T00:00:00\", \"price\": 113.66}, {\"symbol\": \"AAPL\", \"date\": \"2008-10-01T00:00:00\", \"price\": 107.59}, {\"symbol\": \"AAPL\", \"date\": \"2008-11-01T00:00:00\", \"price\": 92.67}, {\"symbol\": \"AAPL\", \"date\": \"2008-12-01T00:00:00\", \"price\": 85.35}, {\"symbol\": \"AAPL\", \"date\": \"2009-01-01T00:00:00\", \"price\": 90.13}, {\"symbol\": \"AAPL\", \"date\": \"2009-02-01T00:00:00\", \"price\": 89.31}, {\"symbol\": \"AAPL\", \"date\": \"2009-03-01T00:00:00\", \"price\": 105.12}, {\"symbol\": \"AAPL\", \"date\": \"2009-04-01T00:00:00\", \"price\": 125.83}, {\"symbol\": \"AAPL\", \"date\": \"2009-05-01T00:00:00\", \"price\": 135.81}, {\"symbol\": \"AAPL\", \"date\": \"2009-06-01T00:00:00\", \"price\": 142.43}, {\"symbol\": \"AAPL\", \"date\": \"2009-07-01T00:00:00\", \"price\": 163.39}, {\"symbol\": \"AAPL\", \"date\": \"2009-08-01T00:00:00\", \"price\": 168.21}, {\"symbol\": \"AAPL\", \"date\": \"2009-09-01T00:00:00\", \"price\": 185.35}, {\"symbol\": \"AAPL\", \"date\": \"2009-10-01T00:00:00\", \"price\": 188.5}, {\"symbol\": \"AAPL\", \"date\": \"2009-11-01T00:00:00\", \"price\": 199.91}, {\"symbol\": \"AAPL\", \"date\": \"2009-12-01T00:00:00\", \"price\": 210.73}, {\"symbol\": \"AAPL\", \"date\": \"2010-01-01T00:00:00\", \"price\": 192.06}, {\"symbol\": \"AAPL\", \"date\": \"2010-02-01T00:00:00\", \"price\": 204.62}, {\"symbol\": \"AAPL\", \"date\": \"2010-03-01T00:00:00\", \"price\": 223.02}]}}, {\"mode\": \"vega-lite\"});\n",
              "</script>"
            ]
          },
          "metadata": {
            "tags": []
          },
          "execution_count": 155
        }
      ]
    },
    {
      "cell_type": "code",
      "metadata": {
        "id": "HIULdQ1nVJgz"
      },
      "source": [
        ""
      ],
      "execution_count": null,
      "outputs": []
    }
  ]
}